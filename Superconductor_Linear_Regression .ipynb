{
 "cells": [
  {
   "cell_type": "code",
   "execution_count": 1,
   "metadata": {
    "colab": {},
    "colab_type": "code",
    "executionInfo": {
     "elapsed": 1291,
     "status": "ok",
     "timestamp": 1595363325079,
     "user": {
      "displayName": "ASHUTOSH SHARMA",
      "photoUrl": "https://lh3.googleusercontent.com/a-/AOh14GhHoKpTTfI1W_YI6EiC_V2Q12v9QuIU_ofuQ19t=s64",
      "userId": "13748081385041872530"
     },
     "user_tz": -330
    },
    "id": "RIw4z-vVLyji"
   },
   "outputs": [],
   "source": [
    "import pandas as pd\n",
    "import numpy as np\n",
    "import matplotlib.pyplot as plt\n",
    "import seaborn as sns\n",
    "import torch\n",
    "import torch.nn as nn\n"
   ]
  },
  {
   "cell_type": "markdown",
   "metadata": {
    "colab_type": "text",
    "id": "xMmeT6yb0qVc"
   },
   "source": [
    "Importing Data and Reading Data \n"
   ]
  },
  {
   "cell_type": "code",
   "execution_count": 2,
   "metadata": {
    "colab": {},
    "colab_type": "code",
    "executionInfo": {
     "elapsed": 1346,
     "status": "ok",
     "timestamp": 1595363329838,
     "user": {
      "displayName": "ASHUTOSH SHARMA",
      "photoUrl": "https://lh3.googleusercontent.com/a-/AOh14GhHoKpTTfI1W_YI6EiC_V2Q12v9QuIU_ofuQ19t=s64",
      "userId": "13748081385041872530"
     },
     "user_tz": -330
    },
    "id": "lXh-lacQoZTk"
   },
   "outputs": [],
   "source": [
    "dataset = pd.read_csv('train.csv') "
   ]
  },
  {
   "cell_type": "code",
   "execution_count": 3,
   "metadata": {
    "colab": {
     "base_uri": "https://localhost:8080/",
     "height": 284
    },
    "colab_type": "code",
    "executionInfo": {
     "elapsed": 2281,
     "status": "ok",
     "timestamp": 1595363334572,
     "user": {
      "displayName": "ASHUTOSH SHARMA",
      "photoUrl": "https://lh3.googleusercontent.com/a-/AOh14GhHoKpTTfI1W_YI6EiC_V2Q12v9QuIU_ofuQ19t=s64",
      "userId": "13748081385041872530"
     },
     "user_tz": -330
    },
    "id": "fmKunWd27K4x",
    "outputId": "08fc1f53-bf57-463a-bd2d-0e54822934df"
   },
   "outputs": [
    {
     "data": {
      "text/html": [
       "<div>\n",
       "<style scoped>\n",
       "    .dataframe tbody tr th:only-of-type {\n",
       "        vertical-align: middle;\n",
       "    }\n",
       "\n",
       "    .dataframe tbody tr th {\n",
       "        vertical-align: top;\n",
       "    }\n",
       "\n",
       "    .dataframe thead th {\n",
       "        text-align: right;\n",
       "    }\n",
       "</style>\n",
       "<table border=\"1\" class=\"dataframe\">\n",
       "  <thead>\n",
       "    <tr style=\"text-align: right;\">\n",
       "      <th></th>\n",
       "      <th>number_of_elements</th>\n",
       "      <th>mean_atomic_mass</th>\n",
       "      <th>wtd_mean_atomic_mass</th>\n",
       "      <th>gmean_atomic_mass</th>\n",
       "      <th>wtd_gmean_atomic_mass</th>\n",
       "      <th>entropy_atomic_mass</th>\n",
       "      <th>wtd_entropy_atomic_mass</th>\n",
       "      <th>range_atomic_mass</th>\n",
       "      <th>wtd_range_atomic_mass</th>\n",
       "      <th>std_atomic_mass</th>\n",
       "      <th>...</th>\n",
       "      <th>wtd_mean_Valence</th>\n",
       "      <th>gmean_Valence</th>\n",
       "      <th>wtd_gmean_Valence</th>\n",
       "      <th>entropy_Valence</th>\n",
       "      <th>wtd_entropy_Valence</th>\n",
       "      <th>range_Valence</th>\n",
       "      <th>wtd_range_Valence</th>\n",
       "      <th>std_Valence</th>\n",
       "      <th>wtd_std_Valence</th>\n",
       "      <th>critical_temp</th>\n",
       "    </tr>\n",
       "  </thead>\n",
       "  <tbody>\n",
       "    <tr>\n",
       "      <th>0</th>\n",
       "      <td>4</td>\n",
       "      <td>88.944468</td>\n",
       "      <td>57.862692</td>\n",
       "      <td>66.361592</td>\n",
       "      <td>36.116612</td>\n",
       "      <td>1.181795</td>\n",
       "      <td>1.062396</td>\n",
       "      <td>122.90607</td>\n",
       "      <td>31.794921</td>\n",
       "      <td>51.968828</td>\n",
       "      <td>...</td>\n",
       "      <td>2.257143</td>\n",
       "      <td>2.213364</td>\n",
       "      <td>2.219783</td>\n",
       "      <td>1.368922</td>\n",
       "      <td>1.066221</td>\n",
       "      <td>1</td>\n",
       "      <td>1.085714</td>\n",
       "      <td>0.433013</td>\n",
       "      <td>0.437059</td>\n",
       "      <td>29.0</td>\n",
       "    </tr>\n",
       "    <tr>\n",
       "      <th>1</th>\n",
       "      <td>5</td>\n",
       "      <td>92.729214</td>\n",
       "      <td>58.518416</td>\n",
       "      <td>73.132787</td>\n",
       "      <td>36.396602</td>\n",
       "      <td>1.449309</td>\n",
       "      <td>1.057755</td>\n",
       "      <td>122.90607</td>\n",
       "      <td>36.161939</td>\n",
       "      <td>47.094633</td>\n",
       "      <td>...</td>\n",
       "      <td>2.257143</td>\n",
       "      <td>1.888175</td>\n",
       "      <td>2.210679</td>\n",
       "      <td>1.557113</td>\n",
       "      <td>1.047221</td>\n",
       "      <td>2</td>\n",
       "      <td>1.128571</td>\n",
       "      <td>0.632456</td>\n",
       "      <td>0.468606</td>\n",
       "      <td>26.0</td>\n",
       "    </tr>\n",
       "    <tr>\n",
       "      <th>2</th>\n",
       "      <td>4</td>\n",
       "      <td>88.944468</td>\n",
       "      <td>57.885242</td>\n",
       "      <td>66.361592</td>\n",
       "      <td>36.122509</td>\n",
       "      <td>1.181795</td>\n",
       "      <td>0.975980</td>\n",
       "      <td>122.90607</td>\n",
       "      <td>35.741099</td>\n",
       "      <td>51.968828</td>\n",
       "      <td>...</td>\n",
       "      <td>2.271429</td>\n",
       "      <td>2.213364</td>\n",
       "      <td>2.232679</td>\n",
       "      <td>1.368922</td>\n",
       "      <td>1.029175</td>\n",
       "      <td>1</td>\n",
       "      <td>1.114286</td>\n",
       "      <td>0.433013</td>\n",
       "      <td>0.444697</td>\n",
       "      <td>19.0</td>\n",
       "    </tr>\n",
       "    <tr>\n",
       "      <th>3</th>\n",
       "      <td>4</td>\n",
       "      <td>88.944468</td>\n",
       "      <td>57.873967</td>\n",
       "      <td>66.361592</td>\n",
       "      <td>36.119560</td>\n",
       "      <td>1.181795</td>\n",
       "      <td>1.022291</td>\n",
       "      <td>122.90607</td>\n",
       "      <td>33.768010</td>\n",
       "      <td>51.968828</td>\n",
       "      <td>...</td>\n",
       "      <td>2.264286</td>\n",
       "      <td>2.213364</td>\n",
       "      <td>2.226222</td>\n",
       "      <td>1.368922</td>\n",
       "      <td>1.048834</td>\n",
       "      <td>1</td>\n",
       "      <td>1.100000</td>\n",
       "      <td>0.433013</td>\n",
       "      <td>0.440952</td>\n",
       "      <td>22.0</td>\n",
       "    </tr>\n",
       "    <tr>\n",
       "      <th>4</th>\n",
       "      <td>4</td>\n",
       "      <td>88.944468</td>\n",
       "      <td>57.840143</td>\n",
       "      <td>66.361592</td>\n",
       "      <td>36.110716</td>\n",
       "      <td>1.181795</td>\n",
       "      <td>1.129224</td>\n",
       "      <td>122.90607</td>\n",
       "      <td>27.848743</td>\n",
       "      <td>51.968828</td>\n",
       "      <td>...</td>\n",
       "      <td>2.242857</td>\n",
       "      <td>2.213364</td>\n",
       "      <td>2.206963</td>\n",
       "      <td>1.368922</td>\n",
       "      <td>1.096052</td>\n",
       "      <td>1</td>\n",
       "      <td>1.057143</td>\n",
       "      <td>0.433013</td>\n",
       "      <td>0.428809</td>\n",
       "      <td>23.0</td>\n",
       "    </tr>\n",
       "    <tr>\n",
       "      <th>5</th>\n",
       "      <td>4</td>\n",
       "      <td>88.944468</td>\n",
       "      <td>57.795044</td>\n",
       "      <td>66.361592</td>\n",
       "      <td>36.098926</td>\n",
       "      <td>1.181795</td>\n",
       "      <td>1.225203</td>\n",
       "      <td>122.90607</td>\n",
       "      <td>20.687458</td>\n",
       "      <td>51.968828</td>\n",
       "      <td>...</td>\n",
       "      <td>2.214286</td>\n",
       "      <td>2.213364</td>\n",
       "      <td>2.181543</td>\n",
       "      <td>1.368922</td>\n",
       "      <td>1.141474</td>\n",
       "      <td>1</td>\n",
       "      <td>1.000000</td>\n",
       "      <td>0.433013</td>\n",
       "      <td>0.410326</td>\n",
       "      <td>23.0</td>\n",
       "    </tr>\n",
       "  </tbody>\n",
       "</table>\n",
       "<p>6 rows × 82 columns</p>\n",
       "</div>"
      ],
      "text/plain": [
       "   number_of_elements  mean_atomic_mass  wtd_mean_atomic_mass  \\\n",
       "0                   4         88.944468             57.862692   \n",
       "1                   5         92.729214             58.518416   \n",
       "2                   4         88.944468             57.885242   \n",
       "3                   4         88.944468             57.873967   \n",
       "4                   4         88.944468             57.840143   \n",
       "5                   4         88.944468             57.795044   \n",
       "\n",
       "   gmean_atomic_mass  wtd_gmean_atomic_mass  entropy_atomic_mass  \\\n",
       "0          66.361592              36.116612             1.181795   \n",
       "1          73.132787              36.396602             1.449309   \n",
       "2          66.361592              36.122509             1.181795   \n",
       "3          66.361592              36.119560             1.181795   \n",
       "4          66.361592              36.110716             1.181795   \n",
       "5          66.361592              36.098926             1.181795   \n",
       "\n",
       "   wtd_entropy_atomic_mass  range_atomic_mass  wtd_range_atomic_mass  \\\n",
       "0                 1.062396          122.90607              31.794921   \n",
       "1                 1.057755          122.90607              36.161939   \n",
       "2                 0.975980          122.90607              35.741099   \n",
       "3                 1.022291          122.90607              33.768010   \n",
       "4                 1.129224          122.90607              27.848743   \n",
       "5                 1.225203          122.90607              20.687458   \n",
       "\n",
       "   std_atomic_mass  ...  wtd_mean_Valence  gmean_Valence  wtd_gmean_Valence  \\\n",
       "0        51.968828  ...          2.257143       2.213364           2.219783   \n",
       "1        47.094633  ...          2.257143       1.888175           2.210679   \n",
       "2        51.968828  ...          2.271429       2.213364           2.232679   \n",
       "3        51.968828  ...          2.264286       2.213364           2.226222   \n",
       "4        51.968828  ...          2.242857       2.213364           2.206963   \n",
       "5        51.968828  ...          2.214286       2.213364           2.181543   \n",
       "\n",
       "   entropy_Valence  wtd_entropy_Valence  range_Valence  wtd_range_Valence  \\\n",
       "0         1.368922             1.066221              1           1.085714   \n",
       "1         1.557113             1.047221              2           1.128571   \n",
       "2         1.368922             1.029175              1           1.114286   \n",
       "3         1.368922             1.048834              1           1.100000   \n",
       "4         1.368922             1.096052              1           1.057143   \n",
       "5         1.368922             1.141474              1           1.000000   \n",
       "\n",
       "   std_Valence  wtd_std_Valence  critical_temp  \n",
       "0     0.433013         0.437059           29.0  \n",
       "1     0.632456         0.468606           26.0  \n",
       "2     0.433013         0.444697           19.0  \n",
       "3     0.433013         0.440952           22.0  \n",
       "4     0.433013         0.428809           23.0  \n",
       "5     0.433013         0.410326           23.0  \n",
       "\n",
       "[6 rows x 82 columns]"
      ]
     },
     "execution_count": 3,
     "metadata": {},
     "output_type": "execute_result"
    }
   ],
   "source": [
    "dataset.head(6)\n"
   ]
  },
  {
   "cell_type": "code",
   "execution_count": 4,
   "metadata": {
    "colab": {
     "base_uri": "https://localhost:8080/",
     "height": 284
    },
    "colab_type": "code",
    "executionInfo": {
     "elapsed": 1559,
     "status": "ok",
     "timestamp": 1595363341793,
     "user": {
      "displayName": "ASHUTOSH SHARMA",
      "photoUrl": "https://lh3.googleusercontent.com/a-/AOh14GhHoKpTTfI1W_YI6EiC_V2Q12v9QuIU_ofuQ19t=s64",
      "userId": "13748081385041872530"
     },
     "user_tz": -330
    },
    "id": "q70m-lc9Lj8T",
    "outputId": "4f5847ec-4dbe-43be-8347-874f4f4f0161"
   },
   "outputs": [
    {
     "data": {
      "text/html": [
       "<div>\n",
       "<style scoped>\n",
       "    .dataframe tbody tr th:only-of-type {\n",
       "        vertical-align: middle;\n",
       "    }\n",
       "\n",
       "    .dataframe tbody tr th {\n",
       "        vertical-align: top;\n",
       "    }\n",
       "\n",
       "    .dataframe thead th {\n",
       "        text-align: right;\n",
       "    }\n",
       "</style>\n",
       "<table border=\"1\" class=\"dataframe\">\n",
       "  <thead>\n",
       "    <tr style=\"text-align: right;\">\n",
       "      <th></th>\n",
       "      <th>number_of_elements</th>\n",
       "      <th>mean_atomic_mass</th>\n",
       "      <th>wtd_mean_atomic_mass</th>\n",
       "      <th>gmean_atomic_mass</th>\n",
       "      <th>wtd_gmean_atomic_mass</th>\n",
       "      <th>entropy_atomic_mass</th>\n",
       "      <th>wtd_entropy_atomic_mass</th>\n",
       "      <th>range_atomic_mass</th>\n",
       "      <th>wtd_range_atomic_mass</th>\n",
       "      <th>std_atomic_mass</th>\n",
       "      <th>...</th>\n",
       "      <th>wtd_mean_Valence</th>\n",
       "      <th>gmean_Valence</th>\n",
       "      <th>wtd_gmean_Valence</th>\n",
       "      <th>entropy_Valence</th>\n",
       "      <th>wtd_entropy_Valence</th>\n",
       "      <th>range_Valence</th>\n",
       "      <th>wtd_range_Valence</th>\n",
       "      <th>std_Valence</th>\n",
       "      <th>wtd_std_Valence</th>\n",
       "      <th>critical_temp</th>\n",
       "    </tr>\n",
       "  </thead>\n",
       "  <tbody>\n",
       "    <tr>\n",
       "      <th>21257</th>\n",
       "      <td>3</td>\n",
       "      <td>89.389833</td>\n",
       "      <td>89.389833</td>\n",
       "      <td>63.694713</td>\n",
       "      <td>63.694713</td>\n",
       "      <td>0.782574</td>\n",
       "      <td>0.782574</td>\n",
       "      <td>164.13150</td>\n",
       "      <td>54.710500</td>\n",
       "      <td>73.156893</td>\n",
       "      <td>...</td>\n",
       "      <td>4.666667</td>\n",
       "      <td>4.578857</td>\n",
       "      <td>4.578857</td>\n",
       "      <td>1.078992</td>\n",
       "      <td>1.078992</td>\n",
       "      <td>2</td>\n",
       "      <td>0.666667</td>\n",
       "      <td>0.942809</td>\n",
       "      <td>0.942809</td>\n",
       "      <td>3.43</td>\n",
       "    </tr>\n",
       "    <tr>\n",
       "      <th>21258</th>\n",
       "      <td>4</td>\n",
       "      <td>106.957877</td>\n",
       "      <td>53.095769</td>\n",
       "      <td>82.515384</td>\n",
       "      <td>43.135565</td>\n",
       "      <td>1.177145</td>\n",
       "      <td>1.254119</td>\n",
       "      <td>146.88130</td>\n",
       "      <td>15.504479</td>\n",
       "      <td>65.764081</td>\n",
       "      <td>...</td>\n",
       "      <td>3.555556</td>\n",
       "      <td>3.223710</td>\n",
       "      <td>3.519911</td>\n",
       "      <td>1.377820</td>\n",
       "      <td>0.913658</td>\n",
       "      <td>1</td>\n",
       "      <td>2.168889</td>\n",
       "      <td>0.433013</td>\n",
       "      <td>0.496904</td>\n",
       "      <td>2.44</td>\n",
       "    </tr>\n",
       "    <tr>\n",
       "      <th>21259</th>\n",
       "      <td>5</td>\n",
       "      <td>92.266740</td>\n",
       "      <td>49.021367</td>\n",
       "      <td>64.812662</td>\n",
       "      <td>32.867748</td>\n",
       "      <td>1.323287</td>\n",
       "      <td>1.571630</td>\n",
       "      <td>188.38390</td>\n",
       "      <td>7.353333</td>\n",
       "      <td>69.232655</td>\n",
       "      <td>...</td>\n",
       "      <td>2.047619</td>\n",
       "      <td>2.168944</td>\n",
       "      <td>2.038991</td>\n",
       "      <td>1.594167</td>\n",
       "      <td>1.337246</td>\n",
       "      <td>1</td>\n",
       "      <td>0.904762</td>\n",
       "      <td>0.400000</td>\n",
       "      <td>0.212959</td>\n",
       "      <td>122.10</td>\n",
       "    </tr>\n",
       "    <tr>\n",
       "      <th>21260</th>\n",
       "      <td>2</td>\n",
       "      <td>99.663190</td>\n",
       "      <td>95.609104</td>\n",
       "      <td>99.433882</td>\n",
       "      <td>95.464320</td>\n",
       "      <td>0.690847</td>\n",
       "      <td>0.530198</td>\n",
       "      <td>13.51362</td>\n",
       "      <td>53.041104</td>\n",
       "      <td>6.756810</td>\n",
       "      <td>...</td>\n",
       "      <td>4.800000</td>\n",
       "      <td>4.472136</td>\n",
       "      <td>4.781762</td>\n",
       "      <td>0.686962</td>\n",
       "      <td>0.450561</td>\n",
       "      <td>1</td>\n",
       "      <td>3.200000</td>\n",
       "      <td>0.500000</td>\n",
       "      <td>0.400000</td>\n",
       "      <td>1.98</td>\n",
       "    </tr>\n",
       "    <tr>\n",
       "      <th>21261</th>\n",
       "      <td>2</td>\n",
       "      <td>99.663190</td>\n",
       "      <td>97.095602</td>\n",
       "      <td>99.433882</td>\n",
       "      <td>96.901083</td>\n",
       "      <td>0.690847</td>\n",
       "      <td>0.640883</td>\n",
       "      <td>13.51362</td>\n",
       "      <td>31.115202</td>\n",
       "      <td>6.756810</td>\n",
       "      <td>...</td>\n",
       "      <td>4.690000</td>\n",
       "      <td>4.472136</td>\n",
       "      <td>4.665819</td>\n",
       "      <td>0.686962</td>\n",
       "      <td>0.577601</td>\n",
       "      <td>1</td>\n",
       "      <td>2.210000</td>\n",
       "      <td>0.500000</td>\n",
       "      <td>0.462493</td>\n",
       "      <td>1.84</td>\n",
       "    </tr>\n",
       "    <tr>\n",
       "      <th>21262</th>\n",
       "      <td>3</td>\n",
       "      <td>87.468333</td>\n",
       "      <td>86.858500</td>\n",
       "      <td>82.555758</td>\n",
       "      <td>80.458722</td>\n",
       "      <td>1.041270</td>\n",
       "      <td>0.895229</td>\n",
       "      <td>71.75500</td>\n",
       "      <td>43.144000</td>\n",
       "      <td>29.905282</td>\n",
       "      <td>...</td>\n",
       "      <td>4.500000</td>\n",
       "      <td>4.762203</td>\n",
       "      <td>4.242641</td>\n",
       "      <td>1.054920</td>\n",
       "      <td>0.970116</td>\n",
       "      <td>3</td>\n",
       "      <td>1.800000</td>\n",
       "      <td>1.414214</td>\n",
       "      <td>1.500000</td>\n",
       "      <td>12.80</td>\n",
       "    </tr>\n",
       "  </tbody>\n",
       "</table>\n",
       "<p>6 rows × 82 columns</p>\n",
       "</div>"
      ],
      "text/plain": [
       "       number_of_elements  mean_atomic_mass  wtd_mean_atomic_mass  \\\n",
       "21257                   3         89.389833             89.389833   \n",
       "21258                   4        106.957877             53.095769   \n",
       "21259                   5         92.266740             49.021367   \n",
       "21260                   2         99.663190             95.609104   \n",
       "21261                   2         99.663190             97.095602   \n",
       "21262                   3         87.468333             86.858500   \n",
       "\n",
       "       gmean_atomic_mass  wtd_gmean_atomic_mass  entropy_atomic_mass  \\\n",
       "21257          63.694713              63.694713             0.782574   \n",
       "21258          82.515384              43.135565             1.177145   \n",
       "21259          64.812662              32.867748             1.323287   \n",
       "21260          99.433882              95.464320             0.690847   \n",
       "21261          99.433882              96.901083             0.690847   \n",
       "21262          82.555758              80.458722             1.041270   \n",
       "\n",
       "       wtd_entropy_atomic_mass  range_atomic_mass  wtd_range_atomic_mass  \\\n",
       "21257                 0.782574          164.13150              54.710500   \n",
       "21258                 1.254119          146.88130              15.504479   \n",
       "21259                 1.571630          188.38390               7.353333   \n",
       "21260                 0.530198           13.51362              53.041104   \n",
       "21261                 0.640883           13.51362              31.115202   \n",
       "21262                 0.895229           71.75500              43.144000   \n",
       "\n",
       "       std_atomic_mass  ...  wtd_mean_Valence  gmean_Valence  \\\n",
       "21257        73.156893  ...          4.666667       4.578857   \n",
       "21258        65.764081  ...          3.555556       3.223710   \n",
       "21259        69.232655  ...          2.047619       2.168944   \n",
       "21260         6.756810  ...          4.800000       4.472136   \n",
       "21261         6.756810  ...          4.690000       4.472136   \n",
       "21262        29.905282  ...          4.500000       4.762203   \n",
       "\n",
       "       wtd_gmean_Valence  entropy_Valence  wtd_entropy_Valence  range_Valence  \\\n",
       "21257           4.578857         1.078992             1.078992              2   \n",
       "21258           3.519911         1.377820             0.913658              1   \n",
       "21259           2.038991         1.594167             1.337246              1   \n",
       "21260           4.781762         0.686962             0.450561              1   \n",
       "21261           4.665819         0.686962             0.577601              1   \n",
       "21262           4.242641         1.054920             0.970116              3   \n",
       "\n",
       "       wtd_range_Valence  std_Valence  wtd_std_Valence  critical_temp  \n",
       "21257           0.666667     0.942809         0.942809           3.43  \n",
       "21258           2.168889     0.433013         0.496904           2.44  \n",
       "21259           0.904762     0.400000         0.212959         122.10  \n",
       "21260           3.200000     0.500000         0.400000           1.98  \n",
       "21261           2.210000     0.500000         0.462493           1.84  \n",
       "21262           1.800000     1.414214         1.500000          12.80  \n",
       "\n",
       "[6 rows x 82 columns]"
      ]
     },
     "execution_count": 4,
     "metadata": {},
     "output_type": "execute_result"
    }
   ],
   "source": [
    "dataset.tail(6)"
   ]
  },
  {
   "cell_type": "code",
   "execution_count": 5,
   "metadata": {
    "colab": {
     "base_uri": "https://localhost:8080/",
     "height": 34
    },
    "colab_type": "code",
    "executionInfo": {
     "elapsed": 1247,
     "status": "ok",
     "timestamp": 1595363347961,
     "user": {
      "displayName": "ASHUTOSH SHARMA",
      "photoUrl": "https://lh3.googleusercontent.com/a-/AOh14GhHoKpTTfI1W_YI6EiC_V2Q12v9QuIU_ofuQ19t=s64",
      "userId": "13748081385041872530"
     },
     "user_tz": -330
    },
    "id": "8Wnn0ZwK0QxU",
    "outputId": "67864287-a569-41fb-a101-cc90d834c1ee"
   },
   "outputs": [
    {
     "data": {
      "text/plain": [
       "(21263, 82)"
      ]
     },
     "execution_count": 5,
     "metadata": {},
     "output_type": "execute_result"
    }
   ],
   "source": [
    "dataset.shape"
   ]
  },
  {
   "cell_type": "code",
   "execution_count": 6,
   "metadata": {
    "colab": {
     "base_uri": "https://localhost:8080/",
     "height": 544
    },
    "colab_type": "code",
    "executionInfo": {
     "elapsed": 1365,
     "status": "ok",
     "timestamp": 1595363363357,
     "user": {
      "displayName": "ASHUTOSH SHARMA",
      "photoUrl": "https://lh3.googleusercontent.com/a-/AOh14GhHoKpTTfI1W_YI6EiC_V2Q12v9QuIU_ofuQ19t=s64",
      "userId": "13748081385041872530"
     },
     "user_tz": -330
    },
    "id": "lEE-UAJ-Y_j7",
    "outputId": "ab4871d5-0325-4b10-8e8b-50c0f81b06b9"
   },
   "outputs": [
    {
     "data": {
      "text/plain": [
       "Index(['number_of_elements', 'mean_atomic_mass', 'wtd_mean_atomic_mass',\n",
       "       'gmean_atomic_mass', 'wtd_gmean_atomic_mass', 'entropy_atomic_mass',\n",
       "       'wtd_entropy_atomic_mass', 'range_atomic_mass', 'wtd_range_atomic_mass',\n",
       "       'std_atomic_mass', 'wtd_std_atomic_mass', 'mean_fie', 'wtd_mean_fie',\n",
       "       'gmean_fie', 'wtd_gmean_fie', 'entropy_fie', 'wtd_entropy_fie',\n",
       "       'range_fie', 'wtd_range_fie', 'std_fie', 'wtd_std_fie',\n",
       "       'mean_atomic_radius', 'wtd_mean_atomic_radius', 'gmean_atomic_radius',\n",
       "       'wtd_gmean_atomic_radius', 'entropy_atomic_radius',\n",
       "       'wtd_entropy_atomic_radius', 'range_atomic_radius',\n",
       "       'wtd_range_atomic_radius', 'std_atomic_radius', 'wtd_std_atomic_radius',\n",
       "       'mean_Density', 'wtd_mean_Density', 'gmean_Density',\n",
       "       'wtd_gmean_Density', 'entropy_Density', 'wtd_entropy_Density',\n",
       "       'range_Density', 'wtd_range_Density', 'std_Density', 'wtd_std_Density',\n",
       "       'mean_ElectronAffinity', 'wtd_mean_ElectronAffinity',\n",
       "       'gmean_ElectronAffinity', 'wtd_gmean_ElectronAffinity',\n",
       "       'entropy_ElectronAffinity', 'wtd_entropy_ElectronAffinity',\n",
       "       'range_ElectronAffinity', 'wtd_range_ElectronAffinity',\n",
       "       'std_ElectronAffinity', 'wtd_std_ElectronAffinity', 'mean_FusionHeat',\n",
       "       'wtd_mean_FusionHeat', 'gmean_FusionHeat', 'wtd_gmean_FusionHeat',\n",
       "       'entropy_FusionHeat', 'wtd_entropy_FusionHeat', 'range_FusionHeat',\n",
       "       'wtd_range_FusionHeat', 'std_FusionHeat', 'wtd_std_FusionHeat',\n",
       "       'mean_ThermalConductivity', 'wtd_mean_ThermalConductivity',\n",
       "       'gmean_ThermalConductivity', 'wtd_gmean_ThermalConductivity',\n",
       "       'entropy_ThermalConductivity', 'wtd_entropy_ThermalConductivity',\n",
       "       'range_ThermalConductivity', 'wtd_range_ThermalConductivity',\n",
       "       'std_ThermalConductivity', 'wtd_std_ThermalConductivity',\n",
       "       'mean_Valence', 'wtd_mean_Valence', 'gmean_Valence',\n",
       "       'wtd_gmean_Valence', 'entropy_Valence', 'wtd_entropy_Valence',\n",
       "       'range_Valence', 'wtd_range_Valence', 'std_Valence', 'wtd_std_Valence',\n",
       "       'critical_temp'],\n",
       "      dtype='object')"
      ]
     },
     "execution_count": 6,
     "metadata": {},
     "output_type": "execute_result"
    }
   ],
   "source": [
    "dataset.columns"
   ]
  },
  {
   "cell_type": "code",
   "execution_count": 7,
   "metadata": {
    "colab": {
     "base_uri": "https://localhost:8080/",
     "height": 255
    },
    "colab_type": "code",
    "executionInfo": {
     "elapsed": 1563,
     "status": "ok",
     "timestamp": 1595363371304,
     "user": {
      "displayName": "ASHUTOSH SHARMA",
      "photoUrl": "https://lh3.googleusercontent.com/a-/AOh14GhHoKpTTfI1W_YI6EiC_V2Q12v9QuIU_ofuQ19t=s64",
      "userId": "13748081385041872530"
     },
     "user_tz": -330
    },
    "id": "4FHuOlsV8exM",
    "outputId": "aea0178d-563a-40f7-f0ef-b6f57287e769"
   },
   "outputs": [
    {
     "data": {
      "text/plain": [
       "<bound method NDFrame.keys of        number_of_elements  mean_atomic_mass  wtd_mean_atomic_mass  \\\n",
       "0                       4         88.944468             57.862692   \n",
       "1                       5         92.729214             58.518416   \n",
       "2                       4         88.944468             57.885242   \n",
       "3                       4         88.944468             57.873967   \n",
       "4                       4         88.944468             57.840143   \n",
       "...                   ...               ...                   ...   \n",
       "21258                   4        106.957877             53.095769   \n",
       "21259                   5         92.266740             49.021367   \n",
       "21260                   2         99.663190             95.609104   \n",
       "21261                   2         99.663190             97.095602   \n",
       "21262                   3         87.468333             86.858500   \n",
       "\n",
       "       gmean_atomic_mass  wtd_gmean_atomic_mass  entropy_atomic_mass  \\\n",
       "0              66.361592              36.116612             1.181795   \n",
       "1              73.132787              36.396602             1.449309   \n",
       "2              66.361592              36.122509             1.181795   \n",
       "3              66.361592              36.119560             1.181795   \n",
       "4              66.361592              36.110716             1.181795   \n",
       "...                  ...                    ...                  ...   \n",
       "21258          82.515384              43.135565             1.177145   \n",
       "21259          64.812662              32.867748             1.323287   \n",
       "21260          99.433882              95.464320             0.690847   \n",
       "21261          99.433882              96.901083             0.690847   \n",
       "21262          82.555758              80.458722             1.041270   \n",
       "\n",
       "       wtd_entropy_atomic_mass  range_atomic_mass  wtd_range_atomic_mass  \\\n",
       "0                     1.062396          122.90607              31.794921   \n",
       "1                     1.057755          122.90607              36.161939   \n",
       "2                     0.975980          122.90607              35.741099   \n",
       "3                     1.022291          122.90607              33.768010   \n",
       "4                     1.129224          122.90607              27.848743   \n",
       "...                        ...                ...                    ...   \n",
       "21258                 1.254119          146.88130              15.504479   \n",
       "21259                 1.571630          188.38390               7.353333   \n",
       "21260                 0.530198           13.51362              53.041104   \n",
       "21261                 0.640883           13.51362              31.115202   \n",
       "21262                 0.895229           71.75500              43.144000   \n",
       "\n",
       "       std_atomic_mass  ...  wtd_mean_Valence  gmean_Valence  \\\n",
       "0            51.968828  ...          2.257143       2.213364   \n",
       "1            47.094633  ...          2.257143       1.888175   \n",
       "2            51.968828  ...          2.271429       2.213364   \n",
       "3            51.968828  ...          2.264286       2.213364   \n",
       "4            51.968828  ...          2.242857       2.213364   \n",
       "...                ...  ...               ...            ...   \n",
       "21258        65.764081  ...          3.555556       3.223710   \n",
       "21259        69.232655  ...          2.047619       2.168944   \n",
       "21260         6.756810  ...          4.800000       4.472136   \n",
       "21261         6.756810  ...          4.690000       4.472136   \n",
       "21262        29.905282  ...          4.500000       4.762203   \n",
       "\n",
       "       wtd_gmean_Valence  entropy_Valence  wtd_entropy_Valence  range_Valence  \\\n",
       "0               2.219783         1.368922             1.066221              1   \n",
       "1               2.210679         1.557113             1.047221              2   \n",
       "2               2.232679         1.368922             1.029175              1   \n",
       "3               2.226222         1.368922             1.048834              1   \n",
       "4               2.206963         1.368922             1.096052              1   \n",
       "...                  ...              ...                  ...            ...   \n",
       "21258           3.519911         1.377820             0.913658              1   \n",
       "21259           2.038991         1.594167             1.337246              1   \n",
       "21260           4.781762         0.686962             0.450561              1   \n",
       "21261           4.665819         0.686962             0.577601              1   \n",
       "21262           4.242641         1.054920             0.970116              3   \n",
       "\n",
       "       wtd_range_Valence  std_Valence  wtd_std_Valence  critical_temp  \n",
       "0               1.085714     0.433013         0.437059          29.00  \n",
       "1               1.128571     0.632456         0.468606          26.00  \n",
       "2               1.114286     0.433013         0.444697          19.00  \n",
       "3               1.100000     0.433013         0.440952          22.00  \n",
       "4               1.057143     0.433013         0.428809          23.00  \n",
       "...                  ...          ...              ...            ...  \n",
       "21258           2.168889     0.433013         0.496904           2.44  \n",
       "21259           0.904762     0.400000         0.212959         122.10  \n",
       "21260           3.200000     0.500000         0.400000           1.98  \n",
       "21261           2.210000     0.500000         0.462493           1.84  \n",
       "21262           1.800000     1.414214         1.500000          12.80  \n",
       "\n",
       "[21263 rows x 82 columns]>"
      ]
     },
     "execution_count": 7,
     "metadata": {},
     "output_type": "execute_result"
    }
   ],
   "source": [
    "dataset.keys\n"
   ]
  },
  {
   "cell_type": "code",
   "execution_count": 8,
   "metadata": {},
   "outputs": [
    {
     "name": "stdout",
     "output_type": "stream",
     "text": [
      "<class 'pandas.core.frame.DataFrame'>\n",
      "RangeIndex: 21263 entries, 0 to 21262\n",
      "Data columns (total 82 columns):\n",
      " #   Column                           Non-Null Count  Dtype  \n",
      "---  ------                           --------------  -----  \n",
      " 0   number_of_elements               21263 non-null  int64  \n",
      " 1   mean_atomic_mass                 21263 non-null  float64\n",
      " 2   wtd_mean_atomic_mass             21263 non-null  float64\n",
      " 3   gmean_atomic_mass                21263 non-null  float64\n",
      " 4   wtd_gmean_atomic_mass            21263 non-null  float64\n",
      " 5   entropy_atomic_mass              21263 non-null  float64\n",
      " 6   wtd_entropy_atomic_mass          21263 non-null  float64\n",
      " 7   range_atomic_mass                21263 non-null  float64\n",
      " 8   wtd_range_atomic_mass            21263 non-null  float64\n",
      " 9   std_atomic_mass                  21263 non-null  float64\n",
      " 10  wtd_std_atomic_mass              21263 non-null  float64\n",
      " 11  mean_fie                         21263 non-null  float64\n",
      " 12  wtd_mean_fie                     21263 non-null  float64\n",
      " 13  gmean_fie                        21263 non-null  float64\n",
      " 14  wtd_gmean_fie                    21263 non-null  float64\n",
      " 15  entropy_fie                      21263 non-null  float64\n",
      " 16  wtd_entropy_fie                  21263 non-null  float64\n",
      " 17  range_fie                        21263 non-null  float64\n",
      " 18  wtd_range_fie                    21263 non-null  float64\n",
      " 19  std_fie                          21263 non-null  float64\n",
      " 20  wtd_std_fie                      21263 non-null  float64\n",
      " 21  mean_atomic_radius               21263 non-null  float64\n",
      " 22  wtd_mean_atomic_radius           21263 non-null  float64\n",
      " 23  gmean_atomic_radius              21263 non-null  float64\n",
      " 24  wtd_gmean_atomic_radius          21263 non-null  float64\n",
      " 25  entropy_atomic_radius            21263 non-null  float64\n",
      " 26  wtd_entropy_atomic_radius        21263 non-null  float64\n",
      " 27  range_atomic_radius              21263 non-null  int64  \n",
      " 28  wtd_range_atomic_radius          21263 non-null  float64\n",
      " 29  std_atomic_radius                21263 non-null  float64\n",
      " 30  wtd_std_atomic_radius            21263 non-null  float64\n",
      " 31  mean_Density                     21263 non-null  float64\n",
      " 32  wtd_mean_Density                 21263 non-null  float64\n",
      " 33  gmean_Density                    21263 non-null  float64\n",
      " 34  wtd_gmean_Density                21263 non-null  float64\n",
      " 35  entropy_Density                  21263 non-null  float64\n",
      " 36  wtd_entropy_Density              21263 non-null  float64\n",
      " 37  range_Density                    21263 non-null  float64\n",
      " 38  wtd_range_Density                21263 non-null  float64\n",
      " 39  std_Density                      21263 non-null  float64\n",
      " 40  wtd_std_Density                  21263 non-null  float64\n",
      " 41  mean_ElectronAffinity            21263 non-null  float64\n",
      " 42  wtd_mean_ElectronAffinity        21263 non-null  float64\n",
      " 43  gmean_ElectronAffinity           21263 non-null  float64\n",
      " 44  wtd_gmean_ElectronAffinity       21263 non-null  float64\n",
      " 45  entropy_ElectronAffinity         21263 non-null  float64\n",
      " 46  wtd_entropy_ElectronAffinity     21263 non-null  float64\n",
      " 47  range_ElectronAffinity           21263 non-null  float64\n",
      " 48  wtd_range_ElectronAffinity       21263 non-null  float64\n",
      " 49  std_ElectronAffinity             21263 non-null  float64\n",
      " 50  wtd_std_ElectronAffinity         21263 non-null  float64\n",
      " 51  mean_FusionHeat                  21263 non-null  float64\n",
      " 52  wtd_mean_FusionHeat              21263 non-null  float64\n",
      " 53  gmean_FusionHeat                 21263 non-null  float64\n",
      " 54  wtd_gmean_FusionHeat             21263 non-null  float64\n",
      " 55  entropy_FusionHeat               21263 non-null  float64\n",
      " 56  wtd_entropy_FusionHeat           21263 non-null  float64\n",
      " 57  range_FusionHeat                 21263 non-null  float64\n",
      " 58  wtd_range_FusionHeat             21263 non-null  float64\n",
      " 59  std_FusionHeat                   21263 non-null  float64\n",
      " 60  wtd_std_FusionHeat               21263 non-null  float64\n",
      " 61  mean_ThermalConductivity         21263 non-null  float64\n",
      " 62  wtd_mean_ThermalConductivity     21263 non-null  float64\n",
      " 63  gmean_ThermalConductivity        21263 non-null  float64\n",
      " 64  wtd_gmean_ThermalConductivity    21263 non-null  float64\n",
      " 65  entropy_ThermalConductivity      21263 non-null  float64\n",
      " 66  wtd_entropy_ThermalConductivity  21263 non-null  float64\n",
      " 67  range_ThermalConductivity        21263 non-null  float64\n",
      " 68  wtd_range_ThermalConductivity    21263 non-null  float64\n",
      " 69  std_ThermalConductivity          21263 non-null  float64\n",
      " 70  wtd_std_ThermalConductivity      21263 non-null  float64\n",
      " 71  mean_Valence                     21263 non-null  float64\n",
      " 72  wtd_mean_Valence                 21263 non-null  float64\n",
      " 73  gmean_Valence                    21263 non-null  float64\n",
      " 74  wtd_gmean_Valence                21263 non-null  float64\n",
      " 75  entropy_Valence                  21263 non-null  float64\n",
      " 76  wtd_entropy_Valence              21263 non-null  float64\n",
      " 77  range_Valence                    21263 non-null  int64  \n",
      " 78  wtd_range_Valence                21263 non-null  float64\n",
      " 79  std_Valence                      21263 non-null  float64\n",
      " 80  wtd_std_Valence                  21263 non-null  float64\n",
      " 81  critical_temp                    21263 non-null  float64\n",
      "dtypes: float64(79), int64(3)\n",
      "memory usage: 13.3 MB\n"
     ]
    }
   ],
   "source": [
    "dataset.info()"
   ]
  },
  {
   "cell_type": "code",
   "execution_count": 9,
   "metadata": {
    "colab": {
     "base_uri": "https://localhost:8080/",
     "height": 170
    },
    "colab_type": "code",
    "executionInfo": {
     "elapsed": 1320,
     "status": "ok",
     "timestamp": 1595363381552,
     "user": {
      "displayName": "ASHUTOSH SHARMA",
      "photoUrl": "https://lh3.googleusercontent.com/a-/AOh14GhHoKpTTfI1W_YI6EiC_V2Q12v9QuIU_ofuQ19t=s64",
      "userId": "13748081385041872530"
     },
     "user_tz": -330
    },
    "id": "X8HKxIIC8suc",
    "outputId": "54f46c19-345c-47f2-83a3-8b3f139aa4ff"
   },
   "outputs": [
    {
     "data": {
      "text/plain": [
       "count    21263.000000\n",
       "mean        34.421219\n",
       "std         34.254362\n",
       "min          0.000210\n",
       "25%          5.365000\n",
       "50%         20.000000\n",
       "75%         63.000000\n",
       "max        185.000000\n",
       "Name: critical_temp, dtype: float64"
      ]
     },
     "execution_count": 9,
     "metadata": {},
     "output_type": "execute_result"
    }
   ],
   "source": [
    "dataset.describe()['critical_temp']"
   ]
  },
  {
   "cell_type": "markdown",
   "metadata": {
    "colab_type": "text",
    "id": "iQK63GiQND6q"
   },
   "source": [
    "Step:2 Data Visualisation "
   ]
  },
  {
   "cell_type": "code",
   "execution_count": 10,
   "metadata": {
    "colab": {
     "base_uri": "https://localhost:8080/",
     "height": 297
    },
    "colab_type": "code",
    "executionInfo": {
     "elapsed": 34817,
     "status": "ok",
     "timestamp": 1595363425459,
     "user": {
      "displayName": "ASHUTOSH SHARMA",
      "photoUrl": "https://lh3.googleusercontent.com/a-/AOh14GhHoKpTTfI1W_YI6EiC_V2Q12v9QuIU_ofuQ19t=s64",
      "userId": "13748081385041872530"
     },
     "user_tz": -330
    },
    "id": "DBtsBKST_I1-",
    "outputId": "23f6b937-a8f9-429a-d9f9-bbf191a23c66"
   },
   "outputs": [
    {
     "data": {
      "text/plain": [
       "<matplotlib.axes._subplots.AxesSubplot at 0x21458a1cf88>"
      ]
     },
     "execution_count": 10,
     "metadata": {},
     "output_type": "execute_result"
    },
    {
     "data": {
      "image/png": "[encoded data removed]",
      "text/plain": [
       "<Figure size 432x288 with 1 Axes>"
      ]
     },
     "metadata": {
      "needs_background": "light"
     },
     "output_type": "display_data"
    }
   ],
   "source": [
    "sns.countplot(x = 'critical_temp',data = dataset)"
   ]
  },
  {
   "cell_type": "code",
   "execution_count": 11,
   "metadata": {
    "colab": {
     "base_uri": "https://localhost:8080/",
     "height": 439
    },
    "colab_type": "code",
    "executionInfo": {
     "elapsed": 1484,
     "status": "ok",
     "timestamp": 1595363849546,
     "user": {
      "displayName": "ASHUTOSH SHARMA",
      "photoUrl": "https://lh3.googleusercontent.com/a-/AOh14GhHoKpTTfI1W_YI6EiC_V2Q12v9QuIU_ofuQ19t=s64",
      "userId": "13748081385041872530"
     },
     "user_tz": -330
    },
    "id": "Rl7eRFD_kgdD",
    "outputId": "56e184cd-c8cf-42df-b6a9-aca0c5286636"
   },
   "outputs": [
    {
     "data": {
      "text/html": [
       "<div>\n",
       "<style scoped>\n",
       "    .dataframe tbody tr th:only-of-type {\n",
       "        vertical-align: middle;\n",
       "    }\n",
       "\n",
       "    .dataframe tbody tr th {\n",
       "        vertical-align: top;\n",
       "    }\n",
       "\n",
       "    .dataframe thead th {\n",
       "        text-align: right;\n",
       "    }\n",
       "</style>\n",
       "<table border=\"1\" class=\"dataframe\">\n",
       "  <thead>\n",
       "    <tr style=\"text-align: right;\">\n",
       "      <th></th>\n",
       "      <th>number_of_elements</th>\n",
       "      <th>mean_atomic_mass</th>\n",
       "      <th>wtd_mean_atomic_mass</th>\n",
       "      <th>gmean_atomic_mass</th>\n",
       "      <th>wtd_gmean_atomic_mass</th>\n",
       "      <th>entropy_atomic_mass</th>\n",
       "      <th>wtd_entropy_atomic_mass</th>\n",
       "      <th>range_atomic_mass</th>\n",
       "      <th>wtd_range_atomic_mass</th>\n",
       "      <th>std_atomic_mass</th>\n",
       "      <th>...</th>\n",
       "      <th>wtd_mean_Valence</th>\n",
       "      <th>gmean_Valence</th>\n",
       "      <th>wtd_gmean_Valence</th>\n",
       "      <th>entropy_Valence</th>\n",
       "      <th>wtd_entropy_Valence</th>\n",
       "      <th>range_Valence</th>\n",
       "      <th>wtd_range_Valence</th>\n",
       "      <th>std_Valence</th>\n",
       "      <th>wtd_std_Valence</th>\n",
       "      <th>critical_temp</th>\n",
       "    </tr>\n",
       "  </thead>\n",
       "  <tbody>\n",
       "    <tr>\n",
       "      <th>number_of_elements</th>\n",
       "      <td>1.000000</td>\n",
       "      <td>-0.141923</td>\n",
       "      <td>-0.353064</td>\n",
       "      <td>-0.292969</td>\n",
       "      <td>-0.454525</td>\n",
       "      <td>0.939304</td>\n",
       "      <td>0.881845</td>\n",
       "      <td>0.682777</td>\n",
       "      <td>-0.320293</td>\n",
       "      <td>0.513998</td>\n",
       "      <td>...</td>\n",
       "      <td>-0.648551</td>\n",
       "      <td>-0.618512</td>\n",
       "      <td>-0.659268</td>\n",
       "      <td>0.967832</td>\n",
       "      <td>0.892559</td>\n",
       "      <td>0.231874</td>\n",
       "      <td>-0.447770</td>\n",
       "      <td>0.105365</td>\n",
       "      <td>0.035216</td>\n",
       "      <td>0.601069</td>\n",
       "    </tr>\n",
       "    <tr>\n",
       "      <th>mean_atomic_mass</th>\n",
       "      <td>-0.141923</td>\n",
       "      <td>1.000000</td>\n",
       "      <td>0.815977</td>\n",
       "      <td>0.940298</td>\n",
       "      <td>0.745841</td>\n",
       "      <td>-0.104000</td>\n",
       "      <td>-0.097609</td>\n",
       "      <td>0.125659</td>\n",
       "      <td>0.446225</td>\n",
       "      <td>0.196460</td>\n",
       "      <td>...</td>\n",
       "      <td>0.304683</td>\n",
       "      <td>0.392153</td>\n",
       "      <td>0.321399</td>\n",
       "      <td>-0.156786</td>\n",
       "      <td>-0.145610</td>\n",
       "      <td>-0.107450</td>\n",
       "      <td>0.168633</td>\n",
       "      <td>-0.080279</td>\n",
       "      <td>-0.081253</td>\n",
       "      <td>-0.113523</td>\n",
       "    </tr>\n",
       "    <tr>\n",
       "      <th>wtd_mean_atomic_mass</th>\n",
       "      <td>-0.353064</td>\n",
       "      <td>0.815977</td>\n",
       "      <td>1.000000</td>\n",
       "      <td>0.848242</td>\n",
       "      <td>0.964085</td>\n",
       "      <td>-0.308046</td>\n",
       "      <td>-0.412666</td>\n",
       "      <td>-0.144029</td>\n",
       "      <td>0.716623</td>\n",
       "      <td>-0.060739</td>\n",
       "      <td>...</td>\n",
       "      <td>0.545587</td>\n",
       "      <td>0.539780</td>\n",
       "      <td>0.548981</td>\n",
       "      <td>-0.375718</td>\n",
       "      <td>-0.331025</td>\n",
       "      <td>-0.039155</td>\n",
       "      <td>0.330904</td>\n",
       "      <td>-0.003681</td>\n",
       "      <td>0.077323</td>\n",
       "      <td>-0.312272</td>\n",
       "    </tr>\n",
       "    <tr>\n",
       "      <th>gmean_atomic_mass</th>\n",
       "      <td>-0.292969</td>\n",
       "      <td>0.940298</td>\n",
       "      <td>0.848242</td>\n",
       "      <td>1.000000</td>\n",
       "      <td>0.856975</td>\n",
       "      <td>-0.190214</td>\n",
       "      <td>-0.232183</td>\n",
       "      <td>-0.175861</td>\n",
       "      <td>0.458473</td>\n",
       "      <td>-0.121708</td>\n",
       "      <td>...</td>\n",
       "      <td>0.427961</td>\n",
       "      <td>0.511508</td>\n",
       "      <td>0.450357</td>\n",
       "      <td>-0.306246</td>\n",
       "      <td>-0.307662</td>\n",
       "      <td>-0.165010</td>\n",
       "      <td>0.272303</td>\n",
       "      <td>-0.124627</td>\n",
       "      <td>-0.117336</td>\n",
       "      <td>-0.230345</td>\n",
       "    </tr>\n",
       "    <tr>\n",
       "      <th>wtd_gmean_atomic_mass</th>\n",
       "      <td>-0.454525</td>\n",
       "      <td>0.745841</td>\n",
       "      <td>0.964085</td>\n",
       "      <td>0.856975</td>\n",
       "      <td>1.000000</td>\n",
       "      <td>-0.370561</td>\n",
       "      <td>-0.484664</td>\n",
       "      <td>-0.352093</td>\n",
       "      <td>0.673326</td>\n",
       "      <td>-0.274487</td>\n",
       "      <td>...</td>\n",
       "      <td>0.614100</td>\n",
       "      <td>0.608417</td>\n",
       "      <td>0.623261</td>\n",
       "      <td>-0.477785</td>\n",
       "      <td>-0.448072</td>\n",
       "      <td>-0.078641</td>\n",
       "      <td>0.409674</td>\n",
       "      <td>-0.033313</td>\n",
       "      <td>0.030361</td>\n",
       "      <td>-0.369858</td>\n",
       "    </tr>\n",
       "    <tr>\n",
       "      <th>...</th>\n",
       "      <td>...</td>\n",
       "      <td>...</td>\n",
       "      <td>...</td>\n",
       "      <td>...</td>\n",
       "      <td>...</td>\n",
       "      <td>...</td>\n",
       "      <td>...</td>\n",
       "      <td>...</td>\n",
       "      <td>...</td>\n",
       "      <td>...</td>\n",
       "      <td>...</td>\n",
       "      <td>...</td>\n",
       "      <td>...</td>\n",
       "      <td>...</td>\n",
       "      <td>...</td>\n",
       "      <td>...</td>\n",
       "      <td>...</td>\n",
       "      <td>...</td>\n",
       "      <td>...</td>\n",
       "      <td>...</td>\n",
       "      <td>...</td>\n",
       "    </tr>\n",
       "    <tr>\n",
       "      <th>range_Valence</th>\n",
       "      <td>0.231874</td>\n",
       "      <td>-0.107450</td>\n",
       "      <td>-0.039155</td>\n",
       "      <td>-0.165010</td>\n",
       "      <td>-0.078641</td>\n",
       "      <td>0.203207</td>\n",
       "      <td>0.161350</td>\n",
       "      <td>0.208861</td>\n",
       "      <td>0.023251</td>\n",
       "      <td>0.192347</td>\n",
       "      <td>...</td>\n",
       "      <td>0.111249</td>\n",
       "      <td>-0.041651</td>\n",
       "      <td>0.033007</td>\n",
       "      <td>0.155410</td>\n",
       "      <td>0.204411</td>\n",
       "      <td>1.000000</td>\n",
       "      <td>0.114000</td>\n",
       "      <td>0.973788</td>\n",
       "      <td>0.867393</td>\n",
       "      <td>-0.143546</td>\n",
       "    </tr>\n",
       "    <tr>\n",
       "      <th>wtd_range_Valence</th>\n",
       "      <td>-0.447770</td>\n",
       "      <td>0.168633</td>\n",
       "      <td>0.330904</td>\n",
       "      <td>0.272303</td>\n",
       "      <td>0.409674</td>\n",
       "      <td>-0.350047</td>\n",
       "      <td>-0.546910</td>\n",
       "      <td>-0.365395</td>\n",
       "      <td>0.594214</td>\n",
       "      <td>-0.273598</td>\n",
       "      <td>...</td>\n",
       "      <td>0.683700</td>\n",
       "      <td>0.532805</td>\n",
       "      <td>0.681415</td>\n",
       "      <td>-0.417283</td>\n",
       "      <td>-0.639818</td>\n",
       "      <td>0.114000</td>\n",
       "      <td>1.000000</td>\n",
       "      <td>0.184380</td>\n",
       "      <td>0.132162</td>\n",
       "      <td>-0.439901</td>\n",
       "    </tr>\n",
       "    <tr>\n",
       "      <th>std_Valence</th>\n",
       "      <td>0.105365</td>\n",
       "      <td>-0.080279</td>\n",
       "      <td>-0.003681</td>\n",
       "      <td>-0.124627</td>\n",
       "      <td>-0.033313</td>\n",
       "      <td>0.087838</td>\n",
       "      <td>0.056309</td>\n",
       "      <td>0.134676</td>\n",
       "      <td>0.066739</td>\n",
       "      <td>0.144106</td>\n",
       "      <td>...</td>\n",
       "      <td>0.186270</td>\n",
       "      <td>0.034589</td>\n",
       "      <td>0.108469</td>\n",
       "      <td>0.034580</td>\n",
       "      <td>0.089774</td>\n",
       "      <td>0.973788</td>\n",
       "      <td>0.184380</td>\n",
       "      <td>1.000000</td>\n",
       "      <td>0.885856</td>\n",
       "      <td>-0.208072</td>\n",
       "    </tr>\n",
       "    <tr>\n",
       "      <th>wtd_std_Valence</th>\n",
       "      <td>0.035216</td>\n",
       "      <td>-0.081253</td>\n",
       "      <td>0.077323</td>\n",
       "      <td>-0.117336</td>\n",
       "      <td>0.030361</td>\n",
       "      <td>0.018758</td>\n",
       "      <td>-0.006937</td>\n",
       "      <td>0.102634</td>\n",
       "      <td>0.092819</td>\n",
       "      <td>0.122547</td>\n",
       "      <td>...</td>\n",
       "      <td>0.258593</td>\n",
       "      <td>0.088388</td>\n",
       "      <td>0.168962</td>\n",
       "      <td>-0.017031</td>\n",
       "      <td>0.081284</td>\n",
       "      <td>0.867393</td>\n",
       "      <td>0.132162</td>\n",
       "      <td>0.885856</td>\n",
       "      <td>1.000000</td>\n",
       "      <td>-0.300028</td>\n",
       "    </tr>\n",
       "    <tr>\n",
       "      <th>critical_temp</th>\n",
       "      <td>0.601069</td>\n",
       "      <td>-0.113523</td>\n",
       "      <td>-0.312272</td>\n",
       "      <td>-0.230345</td>\n",
       "      <td>-0.369858</td>\n",
       "      <td>0.543619</td>\n",
       "      <td>0.626930</td>\n",
       "      <td>0.491970</td>\n",
       "      <td>-0.337131</td>\n",
       "      <td>0.378766</td>\n",
       "      <td>...</td>\n",
       "      <td>-0.632401</td>\n",
       "      <td>-0.573068</td>\n",
       "      <td>-0.615653</td>\n",
       "      <td>0.598591</td>\n",
       "      <td>0.589664</td>\n",
       "      <td>-0.143546</td>\n",
       "      <td>-0.439901</td>\n",
       "      <td>-0.208072</td>\n",
       "      <td>-0.300028</td>\n",
       "      <td>1.000000</td>\n",
       "    </tr>\n",
       "  </tbody>\n",
       "</table>\n",
       "<p>82 rows × 82 columns</p>\n",
       "</div>"
      ],
      "text/plain": [
       "                       number_of_elements  mean_atomic_mass  \\\n",
       "number_of_elements               1.000000         -0.141923   \n",
       "mean_atomic_mass                -0.141923          1.000000   \n",
       "wtd_mean_atomic_mass            -0.353064          0.815977   \n",
       "gmean_atomic_mass               -0.292969          0.940298   \n",
       "wtd_gmean_atomic_mass           -0.454525          0.745841   \n",
       "...                                   ...               ...   \n",
       "range_Valence                    0.231874         -0.107450   \n",
       "wtd_range_Valence               -0.447770          0.168633   \n",
       "std_Valence                      0.105365         -0.080279   \n",
       "wtd_std_Valence                  0.035216         -0.081253   \n",
       "critical_temp                    0.601069         -0.113523   \n",
       "\n",
       "                       wtd_mean_atomic_mass  gmean_atomic_mass  \\\n",
       "number_of_elements                -0.353064          -0.292969   \n",
       "mean_atomic_mass                   0.815977           0.940298   \n",
       "wtd_mean_atomic_mass               1.000000           0.848242   \n",
       "gmean_atomic_mass                  0.848242           1.000000   \n",
       "wtd_gmean_atomic_mass              0.964085           0.856975   \n",
       "...                                     ...                ...   \n",
       "range_Valence                     -0.039155          -0.165010   \n",
       "wtd_range_Valence                  0.330904           0.272303   \n",
       "std_Valence                       -0.003681          -0.124627   \n",
       "wtd_std_Valence                    0.077323          -0.117336   \n",
       "critical_temp                     -0.312272          -0.230345   \n",
       "\n",
       "                       wtd_gmean_atomic_mass  entropy_atomic_mass  \\\n",
       "number_of_elements                 -0.454525             0.939304   \n",
       "mean_atomic_mass                    0.745841            -0.104000   \n",
       "wtd_mean_atomic_mass                0.964085            -0.308046   \n",
       "gmean_atomic_mass                   0.856975            -0.190214   \n",
       "wtd_gmean_atomic_mass               1.000000            -0.370561   \n",
       "...                                      ...                  ...   \n",
       "range_Valence                      -0.078641             0.203207   \n",
       "wtd_range_Valence                   0.409674            -0.350047   \n",
       "std_Valence                        -0.033313             0.087838   \n",
       "wtd_std_Valence                     0.030361             0.018758   \n",
       "critical_temp                      -0.369858             0.543619   \n",
       "\n",
       "                       wtd_entropy_atomic_mass  range_atomic_mass  \\\n",
       "number_of_elements                    0.881845           0.682777   \n",
       "mean_atomic_mass                     -0.097609           0.125659   \n",
       "wtd_mean_atomic_mass                 -0.412666          -0.144029   \n",
       "gmean_atomic_mass                    -0.232183          -0.175861   \n",
       "wtd_gmean_atomic_mass                -0.484664          -0.352093   \n",
       "...                                        ...                ...   \n",
       "range_Valence                         0.161350           0.208861   \n",
       "wtd_range_Valence                    -0.546910          -0.365395   \n",
       "std_Valence                           0.056309           0.134676   \n",
       "wtd_std_Valence                      -0.006937           0.102634   \n",
       "critical_temp                         0.626930           0.491970   \n",
       "\n",
       "                       wtd_range_atomic_mass  std_atomic_mass  ...  \\\n",
       "number_of_elements                 -0.320293         0.513998  ...   \n",
       "mean_atomic_mass                    0.446225         0.196460  ...   \n",
       "wtd_mean_atomic_mass                0.716623        -0.060739  ...   \n",
       "gmean_atomic_mass                   0.458473        -0.121708  ...   \n",
       "wtd_gmean_atomic_mass               0.673326        -0.274487  ...   \n",
       "...                                      ...              ...  ...   \n",
       "range_Valence                       0.023251         0.192347  ...   \n",
       "wtd_range_Valence                   0.594214        -0.273598  ...   \n",
       "std_Valence                         0.066739         0.144106  ...   \n",
       "wtd_std_Valence                     0.092819         0.122547  ...   \n",
       "critical_temp                      -0.337131         0.378766  ...   \n",
       "\n",
       "                       wtd_mean_Valence  gmean_Valence  wtd_gmean_Valence  \\\n",
       "number_of_elements            -0.648551      -0.618512          -0.659268   \n",
       "mean_atomic_mass               0.304683       0.392153           0.321399   \n",
       "wtd_mean_atomic_mass           0.545587       0.539780           0.548981   \n",
       "gmean_atomic_mass              0.427961       0.511508           0.450357   \n",
       "wtd_gmean_atomic_mass          0.614100       0.608417           0.623261   \n",
       "...                                 ...            ...                ...   \n",
       "range_Valence                  0.111249      -0.041651           0.033007   \n",
       "wtd_range_Valence              0.683700       0.532805           0.681415   \n",
       "std_Valence                    0.186270       0.034589           0.108469   \n",
       "wtd_std_Valence                0.258593       0.088388           0.168962   \n",
       "critical_temp                 -0.632401      -0.573068          -0.615653   \n",
       "\n",
       "                       entropy_Valence  wtd_entropy_Valence  range_Valence  \\\n",
       "number_of_elements            0.967832             0.892559       0.231874   \n",
       "mean_atomic_mass             -0.156786            -0.145610      -0.107450   \n",
       "wtd_mean_atomic_mass         -0.375718            -0.331025      -0.039155   \n",
       "gmean_atomic_mass            -0.306246            -0.307662      -0.165010   \n",
       "wtd_gmean_atomic_mass        -0.477785            -0.448072      -0.078641   \n",
       "...                                ...                  ...            ...   \n",
       "range_Valence                 0.155410             0.204411       1.000000   \n",
       "wtd_range_Valence            -0.417283            -0.639818       0.114000   \n",
       "std_Valence                   0.034580             0.089774       0.973788   \n",
       "wtd_std_Valence              -0.017031             0.081284       0.867393   \n",
       "critical_temp                 0.598591             0.589664      -0.143546   \n",
       "\n",
       "                       wtd_range_Valence  std_Valence  wtd_std_Valence  \\\n",
       "number_of_elements             -0.447770     0.105365         0.035216   \n",
       "mean_atomic_mass                0.168633    -0.080279        -0.081253   \n",
       "wtd_mean_atomic_mass            0.330904    -0.003681         0.077323   \n",
       "gmean_atomic_mass               0.272303    -0.124627        -0.117336   \n",
       "wtd_gmean_atomic_mass           0.409674    -0.033313         0.030361   \n",
       "...                                  ...          ...              ...   \n",
       "range_Valence                   0.114000     0.973788         0.867393   \n",
       "wtd_range_Valence               1.000000     0.184380         0.132162   \n",
       "std_Valence                     0.184380     1.000000         0.885856   \n",
       "wtd_std_Valence                 0.132162     0.885856         1.000000   \n",
       "critical_temp                  -0.439901    -0.208072        -0.300028   \n",
       "\n",
       "                       critical_temp  \n",
       "number_of_elements          0.601069  \n",
       "mean_atomic_mass           -0.113523  \n",
       "wtd_mean_atomic_mass       -0.312272  \n",
       "gmean_atomic_mass          -0.230345  \n",
       "wtd_gmean_atomic_mass      -0.369858  \n",
       "...                              ...  \n",
       "range_Valence              -0.143546  \n",
       "wtd_range_Valence          -0.439901  \n",
       "std_Valence                -0.208072  \n",
       "wtd_std_Valence            -0.300028  \n",
       "critical_temp               1.000000  \n",
       "\n",
       "[82 rows x 82 columns]"
      ]
     },
     "execution_count": 11,
     "metadata": {},
     "output_type": "execute_result"
    }
   ],
   "source": [
    "b=dataset.corr()\n",
    "b\n"
   ]
  },
  {
   "cell_type": "code",
   "execution_count": 12,
   "metadata": {
    "colab": {
     "base_uri": "https://localhost:8080/",
     "height": 439
    },
    "colab_type": "code",
    "executionInfo": {
     "elapsed": 1677,
     "status": "ok",
     "timestamp": 1595364023866,
     "user": {
      "displayName": "ASHUTOSH SHARMA",
      "photoUrl": "https://lh3.googleusercontent.com/a-/AOh14GhHoKpTTfI1W_YI6EiC_V2Q12v9QuIU_ofuQ19t=s64",
      "userId": "13748081385041872530"
     },
     "user_tz": -330
    },
    "id": "ZQCy0i_IGJTQ",
    "outputId": "d1039d53-a061-4bd2-e934-05d3c6848a82"
   },
   "outputs": [
    {
     "data": {
      "text/html": [
       "<div>\n",
       "<style scoped>\n",
       "    .dataframe tbody tr th:only-of-type {\n",
       "        vertical-align: middle;\n",
       "    }\n",
       "\n",
       "    .dataframe tbody tr th {\n",
       "        vertical-align: top;\n",
       "    }\n",
       "\n",
       "    .dataframe thead th {\n",
       "        text-align: right;\n",
       "    }\n",
       "</style>\n",
       "<table border=\"1\" class=\"dataframe\">\n",
       "  <thead>\n",
       "    <tr style=\"text-align: right;\">\n",
       "      <th></th>\n",
       "      <th>wtd_mean_Valence</th>\n",
       "      <th>wtd_gmean_Valence</th>\n",
       "      <th>mean_Valence</th>\n",
       "      <th>gmean_Valence</th>\n",
       "      <th>gmean_Density</th>\n",
       "      <th>wtd_gmean_Density</th>\n",
       "      <th>wtd_range_Valence</th>\n",
       "      <th>wtd_mean_Density</th>\n",
       "      <th>wtd_gmean_FusionHeat</th>\n",
       "      <th>gmean_FusionHeat</th>\n",
       "      <th>...</th>\n",
       "      <th>wtd_std_atomic_radius</th>\n",
       "      <th>range_fie</th>\n",
       "      <th>number_of_elements</th>\n",
       "      <th>wtd_entropy_atomic_radius</th>\n",
       "      <th>wtd_entropy_atomic_mass</th>\n",
       "      <th>std_ThermalConductivity</th>\n",
       "      <th>range_atomic_radius</th>\n",
       "      <th>range_ThermalConductivity</th>\n",
       "      <th>wtd_std_ThermalConductivity</th>\n",
       "      <th>critical_temp</th>\n",
       "    </tr>\n",
       "  </thead>\n",
       "  <tbody>\n",
       "    <tr>\n",
       "      <th>number_of_elements</th>\n",
       "      <td>-0.648551</td>\n",
       "      <td>-0.659268</td>\n",
       "      <td>-0.609412</td>\n",
       "      <td>-0.618512</td>\n",
       "      <td>-0.630504</td>\n",
       "      <td>-0.649882</td>\n",
       "      <td>-0.447770</td>\n",
       "      <td>-0.507895</td>\n",
       "      <td>-0.519109</td>\n",
       "      <td>-0.514252</td>\n",
       "      <td>...</td>\n",
       "      <td>0.695089</td>\n",
       "      <td>0.781227</td>\n",
       "      <td>1.000000</td>\n",
       "      <td>0.904121</td>\n",
       "      <td>0.881845</td>\n",
       "      <td>0.602018</td>\n",
       "      <td>0.768060</td>\n",
       "      <td>0.696060</td>\n",
       "      <td>0.665580</td>\n",
       "      <td>0.601069</td>\n",
       "    </tr>\n",
       "    <tr>\n",
       "      <th>mean_atomic_mass</th>\n",
       "      <td>0.304683</td>\n",
       "      <td>0.321399</td>\n",
       "      <td>0.374099</td>\n",
       "      <td>0.392153</td>\n",
       "      <td>0.596485</td>\n",
       "      <td>0.525588</td>\n",
       "      <td>0.168633</td>\n",
       "      <td>0.608935</td>\n",
       "      <td>-0.043003</td>\n",
       "      <td>0.014818</td>\n",
       "      <td>...</td>\n",
       "      <td>-0.280440</td>\n",
       "      <td>-0.255628</td>\n",
       "      <td>-0.141923</td>\n",
       "      <td>-0.147604</td>\n",
       "      <td>-0.097609</td>\n",
       "      <td>-0.110658</td>\n",
       "      <td>-0.270695</td>\n",
       "      <td>-0.114538</td>\n",
       "      <td>-0.110856</td>\n",
       "      <td>-0.113523</td>\n",
       "    </tr>\n",
       "    <tr>\n",
       "      <th>wtd_mean_atomic_mass</th>\n",
       "      <td>0.545587</td>\n",
       "      <td>0.548981</td>\n",
       "      <td>0.534450</td>\n",
       "      <td>0.539780</td>\n",
       "      <td>0.712815</td>\n",
       "      <td>0.767011</td>\n",
       "      <td>0.330904</td>\n",
       "      <td>0.842665</td>\n",
       "      <td>0.120044</td>\n",
       "      <td>0.164239</td>\n",
       "      <td>...</td>\n",
       "      <td>-0.554820</td>\n",
       "      <td>-0.452303</td>\n",
       "      <td>-0.353064</td>\n",
       "      <td>-0.400483</td>\n",
       "      <td>-0.412666</td>\n",
       "      <td>-0.362512</td>\n",
       "      <td>-0.524861</td>\n",
       "      <td>-0.376573</td>\n",
       "      <td>-0.350993</td>\n",
       "      <td>-0.312272</td>\n",
       "    </tr>\n",
       "    <tr>\n",
       "      <th>gmean_atomic_mass</th>\n",
       "      <td>0.427961</td>\n",
       "      <td>0.450357</td>\n",
       "      <td>0.487021</td>\n",
       "      <td>0.511508</td>\n",
       "      <td>0.728477</td>\n",
       "      <td>0.663642</td>\n",
       "      <td>0.272303</td>\n",
       "      <td>0.677131</td>\n",
       "      <td>0.024199</td>\n",
       "      <td>0.086599</td>\n",
       "      <td>...</td>\n",
       "      <td>-0.462397</td>\n",
       "      <td>-0.431689</td>\n",
       "      <td>-0.292969</td>\n",
       "      <td>-0.311701</td>\n",
       "      <td>-0.232183</td>\n",
       "      <td>-0.233587</td>\n",
       "      <td>-0.460197</td>\n",
       "      <td>-0.243465</td>\n",
       "      <td>-0.232079</td>\n",
       "      <td>-0.230345</td>\n",
       "    </tr>\n",
       "    <tr>\n",
       "      <th>wtd_gmean_atomic_mass</th>\n",
       "      <td>0.614100</td>\n",
       "      <td>0.623261</td>\n",
       "      <td>0.599413</td>\n",
       "      <td>0.608417</td>\n",
       "      <td>0.789208</td>\n",
       "      <td>0.843708</td>\n",
       "      <td>0.409674</td>\n",
       "      <td>0.852608</td>\n",
       "      <td>0.189353</td>\n",
       "      <td>0.219751</td>\n",
       "      <td>...</td>\n",
       "      <td>-0.681130</td>\n",
       "      <td>-0.575369</td>\n",
       "      <td>-0.454525</td>\n",
       "      <td>-0.514618</td>\n",
       "      <td>-0.484664</td>\n",
       "      <td>-0.447236</td>\n",
       "      <td>-0.645663</td>\n",
       "      <td>-0.464856</td>\n",
       "      <td>-0.431027</td>\n",
       "      <td>-0.369858</td>\n",
       "    </tr>\n",
       "    <tr>\n",
       "      <th>...</th>\n",
       "      <td>...</td>\n",
       "      <td>...</td>\n",
       "      <td>...</td>\n",
       "      <td>...</td>\n",
       "      <td>...</td>\n",
       "      <td>...</td>\n",
       "      <td>...</td>\n",
       "      <td>...</td>\n",
       "      <td>...</td>\n",
       "      <td>...</td>\n",
       "      <td>...</td>\n",
       "      <td>...</td>\n",
       "      <td>...</td>\n",
       "      <td>...</td>\n",
       "      <td>...</td>\n",
       "      <td>...</td>\n",
       "      <td>...</td>\n",
       "      <td>...</td>\n",
       "      <td>...</td>\n",
       "      <td>...</td>\n",
       "      <td>...</td>\n",
       "    </tr>\n",
       "    <tr>\n",
       "      <th>range_Valence</th>\n",
       "      <td>0.111249</td>\n",
       "      <td>0.033007</td>\n",
       "      <td>0.085892</td>\n",
       "      <td>-0.041651</td>\n",
       "      <td>-0.126403</td>\n",
       "      <td>-0.087742</td>\n",
       "      <td>0.114000</td>\n",
       "      <td>-0.046327</td>\n",
       "      <td>-0.034940</td>\n",
       "      <td>-0.110862</td>\n",
       "      <td>...</td>\n",
       "      <td>0.039561</td>\n",
       "      <td>0.165729</td>\n",
       "      <td>0.231874</td>\n",
       "      <td>0.226873</td>\n",
       "      <td>0.161350</td>\n",
       "      <td>-0.174000</td>\n",
       "      <td>0.071772</td>\n",
       "      <td>-0.137581</td>\n",
       "      <td>-0.187465</td>\n",
       "      <td>-0.143546</td>\n",
       "    </tr>\n",
       "    <tr>\n",
       "      <th>wtd_range_Valence</th>\n",
       "      <td>0.683700</td>\n",
       "      <td>0.681415</td>\n",
       "      <td>0.554338</td>\n",
       "      <td>0.532805</td>\n",
       "      <td>0.534758</td>\n",
       "      <td>0.571594</td>\n",
       "      <td>1.000000</td>\n",
       "      <td>0.485224</td>\n",
       "      <td>0.425550</td>\n",
       "      <td>0.333871</td>\n",
       "      <td>...</td>\n",
       "      <td>-0.543134</td>\n",
       "      <td>-0.532162</td>\n",
       "      <td>-0.447770</td>\n",
       "      <td>-0.576320</td>\n",
       "      <td>-0.546910</td>\n",
       "      <td>-0.443612</td>\n",
       "      <td>-0.524775</td>\n",
       "      <td>-0.472197</td>\n",
       "      <td>-0.509148</td>\n",
       "      <td>-0.439901</td>\n",
       "    </tr>\n",
       "    <tr>\n",
       "      <th>std_Valence</th>\n",
       "      <td>0.186270</td>\n",
       "      <td>0.108469</td>\n",
       "      <td>0.164058</td>\n",
       "      <td>0.034589</td>\n",
       "      <td>-0.052438</td>\n",
       "      <td>-0.014400</td>\n",
       "      <td>0.184380</td>\n",
       "      <td>0.013178</td>\n",
       "      <td>0.022502</td>\n",
       "      <td>-0.060116</td>\n",
       "      <td>...</td>\n",
       "      <td>-0.031263</td>\n",
       "      <td>0.061327</td>\n",
       "      <td>0.105365</td>\n",
       "      <td>0.114904</td>\n",
       "      <td>0.056309</td>\n",
       "      <td>-0.209550</td>\n",
       "      <td>-0.010696</td>\n",
       "      <td>-0.187087</td>\n",
       "      <td>-0.232050</td>\n",
       "      <td>-0.208072</td>\n",
       "    </tr>\n",
       "    <tr>\n",
       "      <th>wtd_std_Valence</th>\n",
       "      <td>0.258593</td>\n",
       "      <td>0.168962</td>\n",
       "      <td>0.203341</td>\n",
       "      <td>0.088388</td>\n",
       "      <td>-0.000917</td>\n",
       "      <td>0.056154</td>\n",
       "      <td>0.132162</td>\n",
       "      <td>0.088027</td>\n",
       "      <td>0.068536</td>\n",
       "      <td>0.008076</td>\n",
       "      <td>...</td>\n",
       "      <td>-0.109204</td>\n",
       "      <td>-0.007883</td>\n",
       "      <td>0.035216</td>\n",
       "      <td>0.093575</td>\n",
       "      <td>-0.006937</td>\n",
       "      <td>-0.306211</td>\n",
       "      <td>-0.092673</td>\n",
       "      <td>-0.289559</td>\n",
       "      <td>-0.323640</td>\n",
       "      <td>-0.300028</td>\n",
       "    </tr>\n",
       "    <tr>\n",
       "      <th>critical_temp</th>\n",
       "      <td>-0.632401</td>\n",
       "      <td>-0.615653</td>\n",
       "      <td>-0.600085</td>\n",
       "      <td>-0.573068</td>\n",
       "      <td>-0.541684</td>\n",
       "      <td>-0.540046</td>\n",
       "      <td>-0.439901</td>\n",
       "      <td>-0.433940</td>\n",
       "      <td>-0.432365</td>\n",
       "      <td>-0.431795</td>\n",
       "      <td>...</td>\n",
       "      <td>0.599199</td>\n",
       "      <td>0.600790</td>\n",
       "      <td>0.601069</td>\n",
       "      <td>0.603494</td>\n",
       "      <td>0.626930</td>\n",
       "      <td>0.653632</td>\n",
       "      <td>0.653759</td>\n",
       "      <td>0.687654</td>\n",
       "      <td>0.721271</td>\n",
       "      <td>1.000000</td>\n",
       "    </tr>\n",
       "  </tbody>\n",
       "</table>\n",
       "<p>82 rows × 82 columns</p>\n",
       "</div>"
      ],
      "text/plain": [
       "                       wtd_mean_Valence  wtd_gmean_Valence  mean_Valence  \\\n",
       "number_of_elements            -0.648551          -0.659268     -0.609412   \n",
       "mean_atomic_mass               0.304683           0.321399      0.374099   \n",
       "wtd_mean_atomic_mass           0.545587           0.548981      0.534450   \n",
       "gmean_atomic_mass              0.427961           0.450357      0.487021   \n",
       "wtd_gmean_atomic_mass          0.614100           0.623261      0.599413   \n",
       "...                                 ...                ...           ...   \n",
       "range_Valence                  0.111249           0.033007      0.085892   \n",
       "wtd_range_Valence              0.683700           0.681415      0.554338   \n",
       "std_Valence                    0.186270           0.108469      0.164058   \n",
       "wtd_std_Valence                0.258593           0.168962      0.203341   \n",
       "critical_temp                 -0.632401          -0.615653     -0.600085   \n",
       "\n",
       "                       gmean_Valence  gmean_Density  wtd_gmean_Density  \\\n",
       "number_of_elements         -0.618512      -0.630504          -0.649882   \n",
       "mean_atomic_mass            0.392153       0.596485           0.525588   \n",
       "wtd_mean_atomic_mass        0.539780       0.712815           0.767011   \n",
       "gmean_atomic_mass           0.511508       0.728477           0.663642   \n",
       "wtd_gmean_atomic_mass       0.608417       0.789208           0.843708   \n",
       "...                              ...            ...                ...   \n",
       "range_Valence              -0.041651      -0.126403          -0.087742   \n",
       "wtd_range_Valence           0.532805       0.534758           0.571594   \n",
       "std_Valence                 0.034589      -0.052438          -0.014400   \n",
       "wtd_std_Valence             0.088388      -0.000917           0.056154   \n",
       "critical_temp              -0.573068      -0.541684          -0.540046   \n",
       "\n",
       "                       wtd_range_Valence  wtd_mean_Density  \\\n",
       "number_of_elements             -0.447770         -0.507895   \n",
       "mean_atomic_mass                0.168633          0.608935   \n",
       "wtd_mean_atomic_mass            0.330904          0.842665   \n",
       "gmean_atomic_mass               0.272303          0.677131   \n",
       "wtd_gmean_atomic_mass           0.409674          0.852608   \n",
       "...                                  ...               ...   \n",
       "range_Valence                   0.114000         -0.046327   \n",
       "wtd_range_Valence               1.000000          0.485224   \n",
       "std_Valence                     0.184380          0.013178   \n",
       "wtd_std_Valence                 0.132162          0.088027   \n",
       "critical_temp                  -0.439901         -0.433940   \n",
       "\n",
       "                       wtd_gmean_FusionHeat  gmean_FusionHeat  ...  \\\n",
       "number_of_elements                -0.519109         -0.514252  ...   \n",
       "mean_atomic_mass                  -0.043003          0.014818  ...   \n",
       "wtd_mean_atomic_mass               0.120044          0.164239  ...   \n",
       "gmean_atomic_mass                  0.024199          0.086599  ...   \n",
       "wtd_gmean_atomic_mass              0.189353          0.219751  ...   \n",
       "...                                     ...               ...  ...   \n",
       "range_Valence                     -0.034940         -0.110862  ...   \n",
       "wtd_range_Valence                  0.425550          0.333871  ...   \n",
       "std_Valence                        0.022502         -0.060116  ...   \n",
       "wtd_std_Valence                    0.068536          0.008076  ...   \n",
       "critical_temp                     -0.432365         -0.431795  ...   \n",
       "\n",
       "                       wtd_std_atomic_radius  range_fie  number_of_elements  \\\n",
       "number_of_elements                  0.695089   0.781227            1.000000   \n",
       "mean_atomic_mass                   -0.280440  -0.255628           -0.141923   \n",
       "wtd_mean_atomic_mass               -0.554820  -0.452303           -0.353064   \n",
       "gmean_atomic_mass                  -0.462397  -0.431689           -0.292969   \n",
       "wtd_gmean_atomic_mass              -0.681130  -0.575369           -0.454525   \n",
       "...                                      ...        ...                 ...   \n",
       "range_Valence                       0.039561   0.165729            0.231874   \n",
       "wtd_range_Valence                  -0.543134  -0.532162           -0.447770   \n",
       "std_Valence                        -0.031263   0.061327            0.105365   \n",
       "wtd_std_Valence                    -0.109204  -0.007883            0.035216   \n",
       "critical_temp                       0.599199   0.600790            0.601069   \n",
       "\n",
       "                       wtd_entropy_atomic_radius  wtd_entropy_atomic_mass  \\\n",
       "number_of_elements                      0.904121                 0.881845   \n",
       "mean_atomic_mass                       -0.147604                -0.097609   \n",
       "wtd_mean_atomic_mass                   -0.400483                -0.412666   \n",
       "gmean_atomic_mass                      -0.311701                -0.232183   \n",
       "wtd_gmean_atomic_mass                  -0.514618                -0.484664   \n",
       "...                                          ...                      ...   \n",
       "range_Valence                           0.226873                 0.161350   \n",
       "wtd_range_Valence                      -0.576320                -0.546910   \n",
       "std_Valence                             0.114904                 0.056309   \n",
       "wtd_std_Valence                         0.093575                -0.006937   \n",
       "critical_temp                           0.603494                 0.626930   \n",
       "\n",
       "                       std_ThermalConductivity  range_atomic_radius  \\\n",
       "number_of_elements                    0.602018             0.768060   \n",
       "mean_atomic_mass                     -0.110658            -0.270695   \n",
       "wtd_mean_atomic_mass                 -0.362512            -0.524861   \n",
       "gmean_atomic_mass                    -0.233587            -0.460197   \n",
       "wtd_gmean_atomic_mass                -0.447236            -0.645663   \n",
       "...                                        ...                  ...   \n",
       "range_Valence                        -0.174000             0.071772   \n",
       "wtd_range_Valence                    -0.443612            -0.524775   \n",
       "std_Valence                          -0.209550            -0.010696   \n",
       "wtd_std_Valence                      -0.306211            -0.092673   \n",
       "critical_temp                         0.653632             0.653759   \n",
       "\n",
       "                       range_ThermalConductivity  wtd_std_ThermalConductivity  \\\n",
       "number_of_elements                      0.696060                     0.665580   \n",
       "mean_atomic_mass                       -0.114538                    -0.110856   \n",
       "wtd_mean_atomic_mass                   -0.376573                    -0.350993   \n",
       "gmean_atomic_mass                      -0.243465                    -0.232079   \n",
       "wtd_gmean_atomic_mass                  -0.464856                    -0.431027   \n",
       "...                                          ...                          ...   \n",
       "range_Valence                          -0.137581                    -0.187465   \n",
       "wtd_range_Valence                      -0.472197                    -0.509148   \n",
       "std_Valence                            -0.187087                    -0.232050   \n",
       "wtd_std_Valence                        -0.289559                    -0.323640   \n",
       "critical_temp                           0.687654                     0.721271   \n",
       "\n",
       "                       critical_temp  \n",
       "number_of_elements          0.601069  \n",
       "mean_atomic_mass           -0.113523  \n",
       "wtd_mean_atomic_mass       -0.312272  \n",
       "gmean_atomic_mass          -0.230345  \n",
       "wtd_gmean_atomic_mass      -0.369858  \n",
       "...                              ...  \n",
       "range_Valence              -0.143546  \n",
       "wtd_range_Valence          -0.439901  \n",
       "std_Valence                -0.208072  \n",
       "wtd_std_Valence            -0.300028  \n",
       "critical_temp               1.000000  \n",
       "\n",
       "[82 rows x 82 columns]"
      ]
     },
     "execution_count": 12,
     "metadata": {},
     "output_type": "execute_result"
    }
   ],
   "source": [
    "b.sort_values('critical_temp',axis=1)"
   ]
  },
  {
   "cell_type": "code",
   "execution_count": 13,
   "metadata": {
    "colab": {},
    "colab_type": "code",
    "executionInfo": {
     "elapsed": 1168,
     "status": "ok",
     "timestamp": 1595364462999,
     "user": {
      "displayName": "ASHUTOSH SHARMA",
      "photoUrl": "https://lh3.googleusercontent.com/a-/AOh14GhHoKpTTfI1W_YI6EiC_V2Q12v9QuIU_ofuQ19t=s64",
      "userId": "13748081385041872530"
     },
     "user_tz": -330
    },
    "id": "1FFKVNvXjuUU"
   },
   "outputs": [],
   "source": [
    "from sklearn.preprocessing import MinMaxScaler\n",
    "sc = MinMaxScaler(feature_range = (0, 1))\n",
    "dataset_scaled = sc.fit_transform(dataset)\n",
    "dataset_scaled = pd.DataFrame(dataset_scaled)"
   ]
  },
  {
   "cell_type": "code",
   "execution_count": 14,
   "metadata": {},
   "outputs": [
    {
     "name": "stdout",
     "output_type": "stream",
     "text": [
      "Max Values: mean_atomic_mass           208.980400\n",
      "wtd_mean_atomic_mass       208.980400\n",
      "gmean_atomic_mass          208.980400\n",
      "wtd_gmean_atomic_mass      208.980400\n",
      "entropy_atomic_mass          1.983797\n",
      "wtd_entropy_atomic_mass      1.958203\n",
      "range_atomic_mass          207.972460\n",
      "wtd_range_atomic_mass      205.589910\n",
      "std_atomic_mass            101.019700\n",
      "wtd_std_atomic_mass        101.019700\n",
      "dtype: float64\n",
      "Min Values: mean_atomic_mass           6.941000\n",
      "wtd_mean_atomic_mass       6.423452\n",
      "gmean_atomic_mass          5.320573\n",
      "wtd_gmean_atomic_mass      1.960849\n",
      "entropy_atomic_mass        0.000000\n",
      "wtd_entropy_atomic_mass    0.000000\n",
      "range_atomic_mass          0.000000\n",
      "wtd_range_atomic_mass      0.000000\n",
      "std_atomic_mass            0.000000\n",
      "wtd_std_atomic_mass        0.000000\n",
      "dtype: float64\n"
     ]
    }
   ],
   "source": [
    "# Calculation of MinMaxScaler\n",
    "data_atomic_mass=dataset.iloc[:,1:11]\n",
    "data_atomic_mass_max = pd.DataFrame.max(data_atomic_mass)\n",
    "data_atomic_mass_min = pd.DataFrame.min(data_atomic_mass)\n",
    "print('Max Values:',data_atomic_mass_max)\n",
    "print('Min Values:',data_atomic_mass_min)"
   ]
  },
  {
   "cell_type": "code",
   "execution_count": 15,
   "metadata": {},
   "outputs": [
    {
     "data": {
      "text/html": [
       "<div>\n",
       "<style scoped>\n",
       "    .dataframe tbody tr th:only-of-type {\n",
       "        vertical-align: middle;\n",
       "    }\n",
       "\n",
       "    .dataframe tbody tr th {\n",
       "        vertical-align: top;\n",
       "    }\n",
       "\n",
       "    .dataframe thead th {\n",
       "        text-align: right;\n",
       "    }\n",
       "</style>\n",
       "<table border=\"1\" class=\"dataframe\">\n",
       "  <thead>\n",
       "    <tr style=\"text-align: right;\">\n",
       "      <th></th>\n",
       "      <th>0</th>\n",
       "      <th>1</th>\n",
       "      <th>2</th>\n",
       "      <th>3</th>\n",
       "      <th>4</th>\n",
       "      <th>5</th>\n",
       "      <th>6</th>\n",
       "      <th>7</th>\n",
       "      <th>8</th>\n",
       "      <th>9</th>\n",
       "      <th>...</th>\n",
       "      <th>72</th>\n",
       "      <th>73</th>\n",
       "      <th>74</th>\n",
       "      <th>75</th>\n",
       "      <th>76</th>\n",
       "      <th>77</th>\n",
       "      <th>78</th>\n",
       "      <th>79</th>\n",
       "      <th>80</th>\n",
       "      <th>81</th>\n",
       "    </tr>\n",
       "  </thead>\n",
       "  <tbody>\n",
       "    <tr>\n",
       "      <th>0</th>\n",
       "      <td>0.375</td>\n",
       "      <td>0.405879</td>\n",
       "      <td>0.253950</td>\n",
       "      <td>0.299720</td>\n",
       "      <td>0.164988</td>\n",
       "      <td>0.595724</td>\n",
       "      <td>0.542536</td>\n",
       "      <td>0.590973</td>\n",
       "      <td>0.154652</td>\n",
       "      <td>0.514443</td>\n",
       "      <td>...</td>\n",
       "      <td>0.209524</td>\n",
       "      <td>0.202227</td>\n",
       "      <td>0.203297</td>\n",
       "      <td>0.639097</td>\n",
       "      <td>0.546853</td>\n",
       "      <td>0.166667</td>\n",
       "      <td>0.155275</td>\n",
       "      <td>0.144338</td>\n",
       "      <td>0.145686</td>\n",
       "      <td>0.156756</td>\n",
       "    </tr>\n",
       "    <tr>\n",
       "      <th>1</th>\n",
       "      <td>0.500</td>\n",
       "      <td>0.424611</td>\n",
       "      <td>0.257187</td>\n",
       "      <td>0.332968</td>\n",
       "      <td>0.166341</td>\n",
       "      <td>0.730573</td>\n",
       "      <td>0.540166</td>\n",
       "      <td>0.590973</td>\n",
       "      <td>0.175894</td>\n",
       "      <td>0.466193</td>\n",
       "      <td>...</td>\n",
       "      <td>0.209524</td>\n",
       "      <td>0.148029</td>\n",
       "      <td>0.201780</td>\n",
       "      <td>0.726956</td>\n",
       "      <td>0.537109</td>\n",
       "      <td>0.333333</td>\n",
       "      <td>0.161404</td>\n",
       "      <td>0.210819</td>\n",
       "      <td>0.156202</td>\n",
       "      <td>0.140540</td>\n",
       "    </tr>\n",
       "    <tr>\n",
       "      <th>2</th>\n",
       "      <td>0.375</td>\n",
       "      <td>0.405879</td>\n",
       "      <td>0.254061</td>\n",
       "      <td>0.299720</td>\n",
       "      <td>0.165017</td>\n",
       "      <td>0.595724</td>\n",
       "      <td>0.498406</td>\n",
       "      <td>0.590973</td>\n",
       "      <td>0.173847</td>\n",
       "      <td>0.514443</td>\n",
       "      <td>...</td>\n",
       "      <td>0.211905</td>\n",
       "      <td>0.202227</td>\n",
       "      <td>0.205446</td>\n",
       "      <td>0.639097</td>\n",
       "      <td>0.527853</td>\n",
       "      <td>0.166667</td>\n",
       "      <td>0.159361</td>\n",
       "      <td>0.144338</td>\n",
       "      <td>0.148232</td>\n",
       "      <td>0.102702</td>\n",
       "    </tr>\n",
       "    <tr>\n",
       "      <th>3</th>\n",
       "      <td>0.375</td>\n",
       "      <td>0.405879</td>\n",
       "      <td>0.254005</td>\n",
       "      <td>0.299720</td>\n",
       "      <td>0.165002</td>\n",
       "      <td>0.595724</td>\n",
       "      <td>0.522056</td>\n",
       "      <td>0.590973</td>\n",
       "      <td>0.164249</td>\n",
       "      <td>0.514443</td>\n",
       "      <td>...</td>\n",
       "      <td>0.210714</td>\n",
       "      <td>0.202227</td>\n",
       "      <td>0.204370</td>\n",
       "      <td>0.639097</td>\n",
       "      <td>0.537936</td>\n",
       "      <td>0.166667</td>\n",
       "      <td>0.157318</td>\n",
       "      <td>0.144338</td>\n",
       "      <td>0.146984</td>\n",
       "      <td>0.118918</td>\n",
       "    </tr>\n",
       "    <tr>\n",
       "      <th>4</th>\n",
       "      <td>0.375</td>\n",
       "      <td>0.405879</td>\n",
       "      <td>0.253838</td>\n",
       "      <td>0.299720</td>\n",
       "      <td>0.164960</td>\n",
       "      <td>0.595724</td>\n",
       "      <td>0.576663</td>\n",
       "      <td>0.590973</td>\n",
       "      <td>0.135458</td>\n",
       "      <td>0.514443</td>\n",
       "      <td>...</td>\n",
       "      <td>0.207143</td>\n",
       "      <td>0.202227</td>\n",
       "      <td>0.201160</td>\n",
       "      <td>0.639097</td>\n",
       "      <td>0.562153</td>\n",
       "      <td>0.166667</td>\n",
       "      <td>0.151189</td>\n",
       "      <td>0.144338</td>\n",
       "      <td>0.142936</td>\n",
       "      <td>0.124323</td>\n",
       "    </tr>\n",
       "    <tr>\n",
       "      <th>...</th>\n",
       "      <td>...</td>\n",
       "      <td>...</td>\n",
       "      <td>...</td>\n",
       "      <td>...</td>\n",
       "      <td>...</td>\n",
       "      <td>...</td>\n",
       "      <td>...</td>\n",
       "      <td>...</td>\n",
       "      <td>...</td>\n",
       "      <td>...</td>\n",
       "      <td>...</td>\n",
       "      <td>...</td>\n",
       "      <td>...</td>\n",
       "      <td>...</td>\n",
       "      <td>...</td>\n",
       "      <td>...</td>\n",
       "      <td>...</td>\n",
       "      <td>...</td>\n",
       "      <td>...</td>\n",
       "      <td>...</td>\n",
       "      <td>...</td>\n",
       "    </tr>\n",
       "    <tr>\n",
       "      <th>21258</th>\n",
       "      <td>0.375</td>\n",
       "      <td>0.495037</td>\n",
       "      <td>0.230416</td>\n",
       "      <td>0.379038</td>\n",
       "      <td>0.198893</td>\n",
       "      <td>0.593380</td>\n",
       "      <td>0.640444</td>\n",
       "      <td>0.706254</td>\n",
       "      <td>0.075415</td>\n",
       "      <td>0.651003</td>\n",
       "      <td>...</td>\n",
       "      <td>0.425926</td>\n",
       "      <td>0.370618</td>\n",
       "      <td>0.419985</td>\n",
       "      <td>0.643251</td>\n",
       "      <td>0.468605</td>\n",
       "      <td>0.166667</td>\n",
       "      <td>0.310187</td>\n",
       "      <td>0.144338</td>\n",
       "      <td>0.165635</td>\n",
       "      <td>0.013188</td>\n",
       "    </tr>\n",
       "    <tr>\n",
       "      <th>21259</th>\n",
       "      <td>0.500</td>\n",
       "      <td>0.422322</td>\n",
       "      <td>0.210301</td>\n",
       "      <td>0.292115</td>\n",
       "      <td>0.149295</td>\n",
       "      <td>0.667047</td>\n",
       "      <td>0.802588</td>\n",
       "      <td>0.905812</td>\n",
       "      <td>0.035767</td>\n",
       "      <td>0.685338</td>\n",
       "      <td>...</td>\n",
       "      <td>0.174603</td>\n",
       "      <td>0.194824</td>\n",
       "      <td>0.173165</td>\n",
       "      <td>0.744255</td>\n",
       "      <td>0.685859</td>\n",
       "      <td>0.166667</td>\n",
       "      <td>0.129396</td>\n",
       "      <td>0.133333</td>\n",
       "      <td>0.070986</td>\n",
       "      <td>0.660000</td>\n",
       "    </tr>\n",
       "    <tr>\n",
       "      <th>21260</th>\n",
       "      <td>0.125</td>\n",
       "      <td>0.458931</td>\n",
       "      <td>0.440299</td>\n",
       "      <td>0.462110</td>\n",
       "      <td>0.451665</td>\n",
       "      <td>0.348245</td>\n",
       "      <td>0.270757</td>\n",
       "      <td>0.064978</td>\n",
       "      <td>0.257995</td>\n",
       "      <td>0.066886</td>\n",
       "      <td>...</td>\n",
       "      <td>0.633333</td>\n",
       "      <td>0.578689</td>\n",
       "      <td>0.630294</td>\n",
       "      <td>0.320716</td>\n",
       "      <td>0.231088</td>\n",
       "      <td>0.166667</td>\n",
       "      <td>0.457653</td>\n",
       "      <td>0.166667</td>\n",
       "      <td>0.133333</td>\n",
       "      <td>0.010702</td>\n",
       "    </tr>\n",
       "    <tr>\n",
       "      <th>21261</th>\n",
       "      <td>0.125</td>\n",
       "      <td>0.458931</td>\n",
       "      <td>0.447638</td>\n",
       "      <td>0.462110</td>\n",
       "      <td>0.458605</td>\n",
       "      <td>0.348245</td>\n",
       "      <td>0.327281</td>\n",
       "      <td>0.064978</td>\n",
       "      <td>0.151346</td>\n",
       "      <td>0.066886</td>\n",
       "      <td>...</td>\n",
       "      <td>0.615000</td>\n",
       "      <td>0.578689</td>\n",
       "      <td>0.610970</td>\n",
       "      <td>0.320716</td>\n",
       "      <td>0.296245</td>\n",
       "      <td>0.166667</td>\n",
       "      <td>0.316066</td>\n",
       "      <td>0.166667</td>\n",
       "      <td>0.154164</td>\n",
       "      <td>0.009945</td>\n",
       "    </tr>\n",
       "    <tr>\n",
       "      <th>21262</th>\n",
       "      <td>0.250</td>\n",
       "      <td>0.398572</td>\n",
       "      <td>0.397098</td>\n",
       "      <td>0.379236</td>\n",
       "      <td>0.379181</td>\n",
       "      <td>0.524887</td>\n",
       "      <td>0.457169</td>\n",
       "      <td>0.345022</td>\n",
       "      <td>0.209855</td>\n",
       "      <td>0.296034</td>\n",
       "      <td>...</td>\n",
       "      <td>0.583333</td>\n",
       "      <td>0.627034</td>\n",
       "      <td>0.540440</td>\n",
       "      <td>0.492502</td>\n",
       "      <td>0.497562</td>\n",
       "      <td>0.500000</td>\n",
       "      <td>0.257430</td>\n",
       "      <td>0.471405</td>\n",
       "      <td>0.500000</td>\n",
       "      <td>0.069188</td>\n",
       "    </tr>\n",
       "  </tbody>\n",
       "</table>\n",
       "<p>21263 rows × 82 columns</p>\n",
       "</div>"
      ],
      "text/plain": [
       "          0         1         2         3         4         5         6   \\\n",
       "0      0.375  0.405879  0.253950  0.299720  0.164988  0.595724  0.542536   \n",
       "1      0.500  0.424611  0.257187  0.332968  0.166341  0.730573  0.540166   \n",
       "2      0.375  0.405879  0.254061  0.299720  0.165017  0.595724  0.498406   \n",
       "3      0.375  0.405879  0.254005  0.299720  0.165002  0.595724  0.522056   \n",
       "4      0.375  0.405879  0.253838  0.299720  0.164960  0.595724  0.576663   \n",
       "...      ...       ...       ...       ...       ...       ...       ...   \n",
       "21258  0.375  0.495037  0.230416  0.379038  0.198893  0.593380  0.640444   \n",
       "21259  0.500  0.422322  0.210301  0.292115  0.149295  0.667047  0.802588   \n",
       "21260  0.125  0.458931  0.440299  0.462110  0.451665  0.348245  0.270757   \n",
       "21261  0.125  0.458931  0.447638  0.462110  0.458605  0.348245  0.327281   \n",
       "21262  0.250  0.398572  0.397098  0.379236  0.379181  0.524887  0.457169   \n",
       "\n",
       "             7         8         9   ...        72        73        74  \\\n",
       "0      0.590973  0.154652  0.514443  ...  0.209524  0.202227  0.203297   \n",
       "1      0.590973  0.175894  0.466193  ...  0.209524  0.148029  0.201780   \n",
       "2      0.590973  0.173847  0.514443  ...  0.211905  0.202227  0.205446   \n",
       "3      0.590973  0.164249  0.514443  ...  0.210714  0.202227  0.204370   \n",
       "4      0.590973  0.135458  0.514443  ...  0.207143  0.202227  0.201160   \n",
       "...         ...       ...       ...  ...       ...       ...       ...   \n",
       "21258  0.706254  0.075415  0.651003  ...  0.425926  0.370618  0.419985   \n",
       "21259  0.905812  0.035767  0.685338  ...  0.174603  0.194824  0.173165   \n",
       "21260  0.064978  0.257995  0.066886  ...  0.633333  0.578689  0.630294   \n",
       "21261  0.064978  0.151346  0.066886  ...  0.615000  0.578689  0.610970   \n",
       "21262  0.345022  0.209855  0.296034  ...  0.583333  0.627034  0.540440   \n",
       "\n",
       "             75        76        77        78        79        80        81  \n",
       "0      0.639097  0.546853  0.166667  0.155275  0.144338  0.145686  0.156756  \n",
       "1      0.726956  0.537109  0.333333  0.161404  0.210819  0.156202  0.140540  \n",
       "2      0.639097  0.527853  0.166667  0.159361  0.144338  0.148232  0.102702  \n",
       "3      0.639097  0.537936  0.166667  0.157318  0.144338  0.146984  0.118918  \n",
       "4      0.639097  0.562153  0.166667  0.151189  0.144338  0.142936  0.124323  \n",
       "...         ...       ...       ...       ...       ...       ...       ...  \n",
       "21258  0.643251  0.468605  0.166667  0.310187  0.144338  0.165635  0.013188  \n",
       "21259  0.744255  0.685859  0.166667  0.129396  0.133333  0.070986  0.660000  \n",
       "21260  0.320716  0.231088  0.166667  0.457653  0.166667  0.133333  0.010702  \n",
       "21261  0.320716  0.296245  0.166667  0.316066  0.166667  0.154164  0.009945  \n",
       "21262  0.492502  0.497562  0.500000  0.257430  0.471405  0.500000  0.069188  \n",
       "\n",
       "[21263 rows x 82 columns]"
      ]
     },
     "execution_count": 15,
     "metadata": {},
     "output_type": "execute_result"
    }
   ],
   "source": [
    "# Scaled data by using MinMaxScaler\n",
    "dataset_scaled"
   ]
  },
  {
   "cell_type": "code",
   "execution_count": 16,
   "metadata": {
    "colab": {
     "base_uri": "https://localhost:8080/",
     "height": 153
    },
    "colab_type": "code",
    "executionInfo": {
     "elapsed": 1367,
     "status": "ok",
     "timestamp": 1595366647127,
     "user": {
      "displayName": "ASHUTOSH SHARMA",
      "photoUrl": "https://lh3.googleusercontent.com/a-/AOh14GhHoKpTTfI1W_YI6EiC_V2Q12v9QuIU_ofuQ19t=s64",
      "userId": "13748081385041872530"
     },
     "user_tz": -330
    },
    "id": "i8rOOT-Z7muH",
    "outputId": "aaf30b08-d1d2-4822-c791-9cbb37ed0f8b"
   },
   "outputs": [
    {
     "name": "stdout",
     "output_type": "stream",
     "text": [
      "X_shape: (21263, 81)\n",
      "Y_shape: (21263, 1)\n",
      "X_train shape: (17010, 81)\n",
      "X_test shape: (4253, 81)\n",
      "Y_train shape: (17010, 1)\n",
      "Y_test shape: (4253, 1)\n",
      "n_samples: 21263\n",
      "n_features: 81\n"
     ]
    }
   ],
   "source": [
    "X = dataset_scaled.iloc[:,:-1].values\n",
    "n_samples, n_features = X.shape\n",
    "Y = dataset_scaled.iloc[:,[81]].values\n",
    "\n",
    "from sklearn.model_selection import train_test_split\n",
    "X_train, X_test, Y_train, Y_test = train_test_split(X, Y, test_size = 0.20, random_state = 42)\n",
    "\n",
    "print(\"X_shape:\", X.shape)\n",
    "print(\"Y_shape:\", Y.shape)\n",
    "print(\"X_train shape:\", X_train.shape)\n",
    "print(\"X_test shape:\", X_test.shape)\n",
    "print(\"Y_train shape:\", Y_train.shape)\n",
    "print(\"Y_test shape:\", Y_test.shape)\n",
    "print(\"n_samples:\", n_samples)\n",
    "print(\"n_features:\", n_features)"
   ]
  },
  {
   "cell_type": "code",
   "execution_count": 17,
   "metadata": {
    "colab": {},
    "colab_type": "code",
    "executionInfo": {
     "elapsed": 1494,
     "status": "ok",
     "timestamp": 1595366654892,
     "user": {
      "displayName": "ASHUTOSH SHARMA",
      "photoUrl": "https://lh3.googleusercontent.com/a-/AOh14GhHoKpTTfI1W_YI6EiC_V2Q12v9QuIU_ofuQ19t=s64",
      "userId": "13748081385041872530"
     },
     "user_tz": -330
    },
    "id": "rdQ4VIC1BZnY"
   },
   "outputs": [],
   "source": [
    "# converting np.array to torch.tensor\n",
    "X_train = torch.as_tensor(np.array(X_train).astype('float32'))\n",
    "X_test = torch.as_tensor(np.array(X_test).astype('float32'))\n",
    "Y_train = torch.as_tensor(np.array(Y_train).astype('float32'))\n",
    "Y_test = torch.as_tensor(np.array(Y_test).astype('float32'))"
   ]
  },
  {
   "cell_type": "code",
   "execution_count": 18,
   "metadata": {},
   "outputs": [],
   "source": [
    "class LinearRegression(nn.Module):\n",
    "    def __init__(self, input_size,output_size):\n",
    "        super(LinearRegression, self).__init__()\n",
    "        self.l1 = nn.Linear(input_dim, hidden_layers)\n",
    "        self.l2 = nn.Linear(hidden_layers, output_dim)\n",
    "\n",
    "    def forward(self, X):\n",
    "        out = self.l1(X)\n",
    "        out1 = self.l2(out)\n",
    "        return out1"
   ]
  },
  {
   "cell_type": "code",
   "execution_count": 19,
   "metadata": {
    "colab": {},
    "colab_type": "code",
    "executionInfo": {
     "elapsed": 1249,
     "status": "ok",
     "timestamp": 1595366657925,
     "user": {
      "displayName": "ASHUTOSH SHARMA",
      "photoUrl": "https://lh3.googleusercontent.com/a-/AOh14GhHoKpTTfI1W_YI6EiC_V2Q12v9QuIU_ofuQ19t=s64",
      "userId": "13748081385041872530"
     },
     "user_tz": -330
    },
    "id": "ozTGyYO2AuaF"
   },
   "outputs": [],
   "source": [
    "# create class model\n",
    "input_dim = n_features\n",
    "output_dim = 1\n",
    "hidden_layers = 100\n",
    "model = LinearRegression(input_dim, output_dim)"
   ]
  },
  {
   "cell_type": "code",
   "execution_count": 20,
   "metadata": {
    "colab": {},
    "colab_type": "code",
    "executionInfo": {
     "elapsed": 5175,
     "status": "ok",
     "timestamp": 1595366666727,
     "user": {
      "displayName": "ASHUTOSH SHARMA",
      "photoUrl": "https://lh3.googleusercontent.com/a-/AOh14GhHoKpTTfI1W_YI6EiC_V2Q12v9QuIU_ofuQ19t=s64",
      "userId": "13748081385041872530"
     },
     "user_tz": -330
    },
    "id": "ZW5HtfHfIquO"
   },
   "outputs": [],
   "source": [
    "# loss:\n",
    "criterion = nn.MSELoss()\n",
    "optimizer = torch.optim.SGD(model.parameters(), lr=0.05)\n",
    "\n",
    "#return F.mse_loss(n_features, 1, reduction=self.reduction)"
   ]
  },
  {
   "cell_type": "code",
   "execution_count": 21,
   "metadata": {
    "colab": {
     "base_uri": "https://localhost:8080/",
     "height": 1000
    },
    "colab_type": "code",
    "executionInfo": {
     "elapsed": 3643,
     "status": "ok",
     "timestamp": 1595366673164,
     "user": {
      "displayName": "ASHUTOSH SHARMA",
      "photoUrl": "https://lh3.googleusercontent.com/a-/AOh14GhHoKpTTfI1W_YI6EiC_V2Q12v9QuIU_ofuQ19t=s64",
      "userId": "13748081385041872530"
     },
     "user_tz": -330
    },
    "id": "WqHRMyX1IttH",
    "outputId": "6c6bbb0d-3348-4a6f-e515-3bdebca49f22"
   },
   "outputs": [
    {
     "name": "stderr",
     "output_type": "stream",
     "text": [
      "  0%|▏                                                                                | 7/3000 [00:00<19:40,  2.54it/s]"
     ]
    },
    {
     "name": "stdout",
     "output_type": "stream",
     "text": [
      "epoch: 0 ==> loss: 0.22288629412651062\n",
      "\n"
     ]
    },
    {
     "name": "stderr",
     "output_type": "stream",
     "text": [
      "  4%|██▊                                                                            | 105/3000 [00:02<00:57, 50.51it/s]"
     ]
    },
    {
     "name": "stdout",
     "output_type": "stream",
     "text": [
      "epoch: 100 ==> loss: 0.016275878995656967\n",
      "\n"
     ]
    },
    {
     "name": "stderr",
     "output_type": "stream",
     "text": [
      "  7%|█████▍                                                                         | 207/3000 [00:04<00:52, 53.23it/s]"
     ]
    },
    {
     "name": "stdout",
     "output_type": "stream",
     "text": [
      "epoch: 200 ==> loss: 0.014968940988183022\n",
      "\n"
     ]
    },
    {
     "name": "stderr",
     "output_type": "stream",
     "text": [
      " 10%|████████▏                                                                      | 309/3000 [00:06<00:51, 52.50it/s]"
     ]
    },
    {
     "name": "stdout",
     "output_type": "stream",
     "text": [
      "epoch: 300 ==> loss: 0.014238246716558933\n",
      "\n"
     ]
    },
    {
     "name": "stderr",
     "output_type": "stream",
     "text": [
      " 14%|██████████▊                                                                    | 410/3000 [00:08<00:49, 52.65it/s]"
     ]
    },
    {
     "name": "stdout",
     "output_type": "stream",
     "text": [
      "epoch: 400 ==> loss: 0.013698880560696125\n",
      "\n"
     ]
    },
    {
     "name": "stderr",
     "output_type": "stream",
     "text": [
      " 17%|█████████████▎                                                                 | 506/3000 [00:10<00:47, 53.03it/s]"
     ]
    },
    {
     "name": "stdout",
     "output_type": "stream",
     "text": [
      "epoch: 500 ==> loss: 0.013271243311464787\n",
      "\n"
     ]
    },
    {
     "name": "stderr",
     "output_type": "stream",
     "text": [
      " 20%|████████████████                                                               | 608/3000 [00:12<00:44, 53.87it/s]"
     ]
    },
    {
     "name": "stdout",
     "output_type": "stream",
     "text": [
      "epoch: 600 ==> loss: 0.012920482084155083\n",
      "\n"
     ]
    },
    {
     "name": "stderr",
     "output_type": "stream",
     "text": [
      " 24%|██████████████████▋                                                            | 710/3000 [00:14<00:43, 52.96it/s]"
     ]
    },
    {
     "name": "stdout",
     "output_type": "stream",
     "text": [
      "epoch: 700 ==> loss: 0.01262660976499319\n",
      "\n"
     ]
    },
    {
     "name": "stderr",
     "output_type": "stream",
     "text": [
      " 27%|█████████████████████▏                                                         | 806/3000 [00:15<00:40, 53.70it/s]"
     ]
    },
    {
     "name": "stdout",
     "output_type": "stream",
     "text": [
      "epoch: 800 ==> loss: 0.012376763857901096\n",
      "\n"
     ]
    },
    {
     "name": "stderr",
     "output_type": "stream",
     "text": [
      " 30%|███████████████████████▉                                                       | 908/3000 [00:17<00:39, 52.66it/s]"
     ]
    },
    {
     "name": "stdout",
     "output_type": "stream",
     "text": [
      "epoch: 900 ==> loss: 0.012162022292613983\n",
      "\n"
     ]
    },
    {
     "name": "stderr",
     "output_type": "stream",
     "text": [
      " 34%|██████████████████████████▎                                                   | 1010/3000 [00:19<00:37, 53.53it/s]"
     ]
    },
    {
     "name": "stdout",
     "output_type": "stream",
     "text": [
      "epoch: 1000 ==> loss: 0.01197588536888361\n",
      "\n"
     ]
    },
    {
     "name": "stderr",
     "output_type": "stream",
     "text": [
      " 37%|████████████████████████████▊                                                 | 1106/3000 [00:21<00:35, 53.56it/s]"
     ]
    },
    {
     "name": "stdout",
     "output_type": "stream",
     "text": [
      "epoch: 1100 ==> loss: 0.011813435703516006\n",
      "\n"
     ]
    },
    {
     "name": "stderr",
     "output_type": "stream",
     "text": [
      " 40%|███████████████████████████████▍                                              | 1208/3000 [00:23<00:32, 54.66it/s]"
     ]
    },
    {
     "name": "stdout",
     "output_type": "stream",
     "text": [
      "epoch: 1200 ==> loss: 0.011670851148664951\n",
      "\n"
     ]
    },
    {
     "name": "stderr",
     "output_type": "stream",
     "text": [
      " 44%|██████████████████████████████████                                            | 1310/3000 [00:25<00:31, 54.14it/s]"
     ]
    },
    {
     "name": "stdout",
     "output_type": "stream",
     "text": [
      "epoch: 1300 ==> loss: 0.011545115150511265\n",
      "\n"
     ]
    },
    {
     "name": "stderr",
     "output_type": "stream",
     "text": [
      " 47%|████████████████████████████████████▌                                         | 1406/3000 [00:27<00:30, 53.12it/s]"
     ]
    },
    {
     "name": "stdout",
     "output_type": "stream",
     "text": [
      "epoch: 1400 ==> loss: 0.011433793231844902\n",
      "\n"
     ]
    },
    {
     "name": "stderr",
     "output_type": "stream",
     "text": [
      " 50%|███████████████████████████████████████▏                                      | 1508/3000 [00:29<00:27, 53.57it/s]"
     ]
    },
    {
     "name": "stdout",
     "output_type": "stream",
     "text": [
      "epoch: 1500 ==> loss: 0.011334903538227081\n",
      "\n"
     ]
    },
    {
     "name": "stderr",
     "output_type": "stream",
     "text": [
      " 54%|█████████████████████████████████████████▊                                    | 1610/3000 [00:31<00:26, 53.43it/s]"
     ]
    },
    {
     "name": "stdout",
     "output_type": "stream",
     "text": [
      "epoch: 1600 ==> loss: 0.011246796697378159\n",
      "\n"
     ]
    },
    {
     "name": "stderr",
     "output_type": "stream",
     "text": [
      " 57%|████████████████████████████████████████████▎                                 | 1706/3000 [00:32<00:24, 53.76it/s]"
     ]
    },
    {
     "name": "stdout",
     "output_type": "stream",
     "text": [
      "epoch: 1700 ==> loss: 0.0111681018024683\n",
      "\n"
     ]
    },
    {
     "name": "stderr",
     "output_type": "stream",
     "text": [
      " 60%|███████████████████████████████████████████████                               | 1808/3000 [00:34<00:22, 53.30it/s]"
     ]
    },
    {
     "name": "stdout",
     "output_type": "stream",
     "text": [
      "epoch: 1800 ==> loss: 0.011097638867795467\n",
      "\n"
     ]
    },
    {
     "name": "stderr",
     "output_type": "stream",
     "text": [
      " 64%|█████████████████████████████████████████████████▌                            | 1908/3000 [00:37<00:25, 42.70it/s]"
     ]
    },
    {
     "name": "stdout",
     "output_type": "stream",
     "text": [
      "epoch: 1900 ==> loss: 0.011034405790269375\n",
      "\n"
     ]
    },
    {
     "name": "stderr",
     "output_type": "stream",
     "text": [
      " 67%|████████████████████████████████████████████████████▏                         | 2009/3000 [00:38<00:20, 47.65it/s]"
     ]
    },
    {
     "name": "stdout",
     "output_type": "stream",
     "text": [
      "epoch: 2000 ==> loss: 0.010977530851960182\n",
      "\n"
     ]
    },
    {
     "name": "stderr",
     "output_type": "stream",
     "text": [
      " 70%|██████████████████████████████████████████████████████▊                       | 2106/3000 [00:41<00:17, 50.20it/s]"
     ]
    },
    {
     "name": "stdout",
     "output_type": "stream",
     "text": [
      "epoch: 2100 ==> loss: 0.01092625129967928\n",
      "\n"
     ]
    },
    {
     "name": "stderr",
     "output_type": "stream",
     "text": [
      " 74%|█████████████████████████████████████████████████████████▍                    | 2208/3000 [00:42<00:14, 52.93it/s]"
     ]
    },
    {
     "name": "stdout",
     "output_type": "stream",
     "text": [
      "epoch: 2200 ==> loss: 0.010879899375140667\n",
      "\n"
     ]
    },
    {
     "name": "stderr",
     "output_type": "stream",
     "text": [
      " 77%|███████████████████████████████████████████████████████████▉                  | 2307/3000 [00:45<00:15, 44.14it/s]"
     ]
    },
    {
     "name": "stdout",
     "output_type": "stream",
     "text": [
      "epoch: 2300 ==> loss: 0.010837891139090061\n",
      "\n"
     ]
    },
    {
     "name": "stderr",
     "output_type": "stream",
     "text": [
      " 80%|██████████████████████████████████████████████████████████████▌               | 2408/3000 [00:46<00:11, 52.28it/s]"
     ]
    },
    {
     "name": "stdout",
     "output_type": "stream",
     "text": [
      "epoch: 2400 ==> loss: 0.010799712501466274\n",
      "\n"
     ]
    },
    {
     "name": "stderr",
     "output_type": "stream",
     "text": [
      " 84%|█████████████████████████████████████████████████████████████████▎            | 2510/3000 [00:48<00:09, 53.53it/s]"
     ]
    },
    {
     "name": "stdout",
     "output_type": "stream",
     "text": [
      "epoch: 2500 ==> loss: 0.01076490618288517\n",
      "\n"
     ]
    },
    {
     "name": "stderr",
     "output_type": "stream",
     "text": [
      " 87%|███████████████████████████████████████████████████████████████████▋          | 2605/3000 [00:50<00:07, 51.12it/s]"
     ]
    },
    {
     "name": "stdout",
     "output_type": "stream",
     "text": [
      "epoch: 2600 ==> loss: 0.01073306705802679\n",
      "\n"
     ]
    },
    {
     "name": "stderr",
     "output_type": "stream",
     "text": [
      " 90%|██████████████████████████████████████████████████████████████████████▍       | 2707/3000 [00:52<00:06, 47.91it/s]"
     ]
    },
    {
     "name": "stdout",
     "output_type": "stream",
     "text": [
      "epoch: 2700 ==> loss: 0.01070384681224823\n",
      "\n"
     ]
    },
    {
     "name": "stderr",
     "output_type": "stream",
     "text": [
      " 94%|████████████████████████████████████████████████████████████████████████▉     | 2805/3000 [00:54<00:03, 51.08it/s]"
     ]
    },
    {
     "name": "stdout",
     "output_type": "stream",
     "text": [
      "epoch: 2800 ==> loss: 0.010676934383809566\n",
      "\n"
     ]
    },
    {
     "name": "stderr",
     "output_type": "stream",
     "text": [
      " 97%|███████████████████████████████████████████████████████████████████████████▌  | 2907/3000 [00:56<00:01, 50.62it/s]"
     ]
    },
    {
     "name": "stdout",
     "output_type": "stream",
     "text": [
      "epoch: 2900 ==> loss: 0.010652054101228714\n",
      "\n"
     ]
    },
    {
     "name": "stderr",
     "output_type": "stream",
     "text": [
      "100%|██████████████████████████████████████████████████████████████████████████████| 3000/3000 [00:58<00:00, 51.28it/s]\n"
     ]
    }
   ],
   "source": [
    "# training:\n",
    "from tqdm import tqdm \n",
    "n_epochs = 3000\n",
    "for epoch in tqdm(range(n_epochs)):\n",
    "    optimizer.zero_grad() #zero_grad\n",
    "    y_prediction = model(X_train) # forward pass\n",
    "    loss = criterion(y_prediction, Y_train)# loss\n",
    "    loss.backward() # backward pass\n",
    "    optimizer.step() # update weights\n",
    "    \n",
    "    if (epoch%100 == 0):\n",
    "        print(\"epoch: {} ==> loss: {}\\n\".format(epoch,loss.data))"
   ]
  },
  {
   "cell_type": "code",
   "execution_count": 22,
   "metadata": {
    "colab": {
     "base_uri": "https://localhost:8080/",
     "height": 34
    },
    "colab_type": "code",
    "executionInfo": {
     "elapsed": 1275,
     "status": "ok",
     "timestamp": 1595366682072,
     "user": {
      "displayName": "ASHUTOSH SHARMA",
      "photoUrl": "https://lh3.googleusercontent.com/a-/AOh14GhHoKpTTfI1W_YI6EiC_V2Q12v9QuIU_ofuQ19t=s64",
      "userId": "13748081385041872530"
     },
     "user_tz": -330
    },
    "id": "x68-qLbDI7PZ",
    "outputId": "cf2ce718-b545-430b-e36c-897c606e70bf"
   },
   "outputs": [
    {
     "name": "stdout",
     "output_type": "stream",
     "text": [
      "Accuracy =86.62120819091797\n"
     ]
    }
   ],
   "source": [
    "with torch.no_grad():\n",
    "    y_prediction = model(X_test)\n",
    "    y_prediction_cls = y_prediction.round()\n",
    "    acc = y_prediction_cls.eq(X_test).sum() / float(X_test.shape[0])\n",
    "    print(f'Accuracy ={acc*100}')\n"
   ]
  },
  {
   "cell_type": "code",
   "execution_count": 23,
   "metadata": {
    "colab": {
     "base_uri": "https://localhost:8080/",
     "height": 51
    },
    "colab_type": "code",
    "executionInfo": {
     "elapsed": 1654,
     "status": "ok",
     "timestamp": 1595366692342,
     "user": {
      "displayName": "ASHUTOSH SHARMA",
      "photoUrl": "https://lh3.googleusercontent.com/a-/AOh14GhHoKpTTfI1W_YI6EiC_V2Q12v9QuIU_ofuQ19t=s64",
      "userId": "13748081385041872530"
     },
     "user_tz": -330
    },
    "id": "Ym-G5XcwJUi1",
    "outputId": "2a3a395a-222b-4848-f271-9a77a1705039"
   },
   "outputs": [
    {
     "name": "stdout",
     "output_type": "stream",
     "text": [
      "MSE is: 0.010047973\n",
      "The RMSE is : 0.10023958\n",
      "The R2 Score: 70.1244958481205\n"
     ]
    }
   ],
   "source": [
    "from sklearn.metrics import mean_squared_error,r2_score\n",
    "mse=mean_squared_error(Y_test,y_prediction)\n",
    "rmse=np.sqrt(mse)\n",
    "print(\"MSE is:\", mse)\n",
    "print(\"The RMSE is :\",rmse)\n",
    "print(\"The R2 Score:\",r2_score(Y_test,y_prediction)*100)"
   ]
  },
  {
   "cell_type": "code",
   "execution_count": 24,
   "metadata": {
    "colab": {},
    "colab_type": "code",
    "id": "_87qCJ49Jco1"
   },
   "outputs": [
    {
     "name": "stdout",
     "output_type": "stream",
     "text": [
      "tensor([[-0.0122],\n",
      "        [-0.0793],\n",
      "        [ 0.1098],\n",
      "        ...,\n",
      "        [ 0.1018],\n",
      "        [-0.0327],\n",
      "        [ 0.1065]], grad_fn=<SubBackward0>)\n"
     ]
    },
    {
     "data": {
      "image/png": "[encoded data removed]",
      "text/plain": [
       "<Figure size 360x360 with 1 Axes>"
      ]
     },
     "metadata": {
      "needs_background": "light"
     },
     "output_type": "display_data"
    }
   ],
   "source": [
    "y_last = model(X_test)\n",
    "print(y_last - Y_test)\n",
    "\n",
    "import matplotlib.pyplot as plt\n",
    "%matplotlib inline\n",
    "plt.figure(figsize=(5,5))\n",
    "plt.plot(Y_test.detach().numpy(), y_last.detach().numpy(), 'o')\n",
    "plt.xlabel('Targeted y', fontsize=16)\n",
    "plt.ylabel('Modeled y', fontsize=16)\n",
    "plt.savefig('Model_validation')"
   ]
  },
  {
   "cell_type": "code",
   "execution_count": null,
   "metadata": {},
   "outputs": [],
   "source": []
  },
  {
   "cell_type": "code",
   "execution_count": 25,
   "metadata": {},
   "outputs": [],
   "source": [
    "#data_atomic_mass=dataset.iloc[:,1:11]\n",
    "#data_atomic_radius=dataset.iloc[:,21:31]\n",
    "#data_electron_affinity=dataset.iloc[:,41:51]\n",
    "#data_thermal_conductivity=dataset.iloc[:,61:71]\n",
    "#data_valence=dataset.iloc[:,71:81]"
   ]
  },
  {
   "cell_type": "code",
   "execution_count": 26,
   "metadata": {},
   "outputs": [],
   "source": [
    "#total = data_atomic_mass.copy()\n",
    "#total = pd.concat([data_atomic_radius,total], axis=1)\n",
    "#total = pd.concat([data_electron_affinity,total], axis=1)\n",
    "#total = pd.concat([data_thermal_conductivity,total], axis=1)\n",
    "#total = pd.concat([data_valence,total], axis=1)\n",
    "#total.shape\n",
    "\n"
   ]
  }
 ],
 "metadata": {
  "colab": {
   "authorship_tag": "ABX9TyPESa5DYuOas7pnMWOkeEwt",
   "collapsed_sections": [],
   "name": "Superconductor_linearRegression.ipynb",
   "provenance": []
  },
  "kernelspec": {
   "display_name": "Python 3",
   "language": "python",
   "name": "python3"
  },
  "language_info": {
   "codemirror_mode": {
    "name": "ipython",
    "version": 3
   },
   "file_extension": ".py",
   "mimetype": "text/x-python",
   "name": "python",
   "nbconvert_exporter": "python",
   "pygments_lexer": "ipython3",
   "version": "3.7.6"
  }
 },
 "nbformat": 4,
 "nbformat_minor": 1
}
